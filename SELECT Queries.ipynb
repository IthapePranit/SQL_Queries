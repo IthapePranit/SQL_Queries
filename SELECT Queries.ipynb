{
 "cells": [
  {
   "cell_type": "markdown",
   "id": "80cb3f51",
   "metadata": {},
   "source": [
    "# BASIC SQL IMPORTS"
   ]
  },
  {
   "cell_type": "code",
   "execution_count": 1,
   "id": "8d389b7c",
   "metadata": {},
   "outputs": [],
   "source": [
    "%load_ext sql"
   ]
  },
  {
   "cell_type": "code",
   "execution_count": 2,
   "id": "a3218c26",
   "metadata": {},
   "outputs": [],
   "source": [
    "import csv , sqlite3\n",
    "con = sqlite3.connect(\"SelectQuery.db\")\n",
    "cur = con.cursor()"
   ]
  },
  {
   "cell_type": "code",
   "execution_count": 3,
   "id": "3d2f028b",
   "metadata": {},
   "outputs": [],
   "source": [
    "%sql sqlite:///SelectQuery.db"
   ]
  },
  {
   "cell_type": "markdown",
   "id": "c9f651d1",
   "metadata": {},
   "source": [
    "# import the csv file with pandas first"
   ]
  },
  {
   "cell_type": "code",
   "execution_count": 4,
   "id": "466f6313",
   "metadata": {},
   "outputs": [],
   "source": [
    "import pandas as pd\n",
    "\n",
    "from warnings import filterwarnings\n",
    "filterwarnings(\"ignore\")"
   ]
  },
  {
   "cell_type": "code",
   "execution_count": 5,
   "id": "7c377494",
   "metadata": {},
   "outputs": [],
   "source": [
    "df  = pd.read_csv(r\"C:\\Users\\Pranit\\OneDrive\\Desktop\\AI\\Sql\\lec 3\\EmployeeData.csv\")"
   ]
  },
  {
   "cell_type": "code",
   "execution_count": 6,
   "id": "f4d7853a",
   "metadata": {},
   "outputs": [
    {
     "data": {
      "text/html": [
       "<div>\n",
       "<style scoped>\n",
       "    .dataframe tbody tr th:only-of-type {\n",
       "        vertical-align: middle;\n",
       "    }\n",
       "\n",
       "    .dataframe tbody tr th {\n",
       "        vertical-align: top;\n",
       "    }\n",
       "\n",
       "    .dataframe thead th {\n",
       "        text-align: right;\n",
       "    }\n",
       "</style>\n",
       "<table border=\"1\" class=\"dataframe\">\n",
       "  <thead>\n",
       "    <tr style=\"text-align: right;\">\n",
       "      <th></th>\n",
       "      <th>empid</th>\n",
       "      <th>fname</th>\n",
       "      <th>lname</th>\n",
       "      <th>sal</th>\n",
       "      <th>did</th>\n",
       "    </tr>\n",
       "  </thead>\n",
       "  <tbody>\n",
       "    <tr>\n",
       "      <th>0</th>\n",
       "      <td>101</td>\n",
       "      <td>Utkarsh</td>\n",
       "      <td>Gaikwad</td>\n",
       "      <td>20000</td>\n",
       "      <td>10</td>\n",
       "    </tr>\n",
       "    <tr>\n",
       "      <th>1</th>\n",
       "      <td>102</td>\n",
       "      <td>Sarthak</td>\n",
       "      <td>Sharma</td>\n",
       "      <td>25000</td>\n",
       "      <td>20</td>\n",
       "    </tr>\n",
       "    <tr>\n",
       "      <th>2</th>\n",
       "      <td>103</td>\n",
       "      <td>Raman</td>\n",
       "      <td>Verma</td>\n",
       "      <td>35000</td>\n",
       "      <td>30</td>\n",
       "    </tr>\n",
       "    <tr>\n",
       "      <th>3</th>\n",
       "      <td>104</td>\n",
       "      <td>Rakesh</td>\n",
       "      <td>Jain</td>\n",
       "      <td>40000</td>\n",
       "      <td>20</td>\n",
       "    </tr>\n",
       "    <tr>\n",
       "      <th>4</th>\n",
       "      <td>105</td>\n",
       "      <td>Aditi</td>\n",
       "      <td>Naik</td>\n",
       "      <td>37000</td>\n",
       "      <td>20</td>\n",
       "    </tr>\n",
       "    <tr>\n",
       "      <th>5</th>\n",
       "      <td>106</td>\n",
       "      <td>Suresh</td>\n",
       "      <td>More</td>\n",
       "      <td>36000</td>\n",
       "      <td>10</td>\n",
       "    </tr>\n",
       "    <tr>\n",
       "      <th>6</th>\n",
       "      <td>107</td>\n",
       "      <td>Sayali</td>\n",
       "      <td>Kale</td>\n",
       "      <td>40000</td>\n",
       "      <td>30</td>\n",
       "    </tr>\n",
       "    <tr>\n",
       "      <th>7</th>\n",
       "      <td>108</td>\n",
       "      <td>Narayan</td>\n",
       "      <td>More</td>\n",
       "      <td>45000</td>\n",
       "      <td>30</td>\n",
       "    </tr>\n",
       "    <tr>\n",
       "      <th>8</th>\n",
       "      <td>109</td>\n",
       "      <td>Atif</td>\n",
       "      <td>Khan</td>\n",
       "      <td>34000</td>\n",
       "      <td>10</td>\n",
       "    </tr>\n",
       "    <tr>\n",
       "      <th>9</th>\n",
       "      <td>110</td>\n",
       "      <td>Ramesh</td>\n",
       "      <td>Gaud</td>\n",
       "      <td>26000</td>\n",
       "      <td>10</td>\n",
       "    </tr>\n",
       "  </tbody>\n",
       "</table>\n",
       "</div>"
      ],
      "text/plain": [
       "   empid    fname    lname    sal  did\n",
       "0    101  Utkarsh  Gaikwad  20000   10\n",
       "1    102  Sarthak   Sharma  25000   20\n",
       "2    103    Raman    Verma  35000   30\n",
       "3    104   Rakesh     Jain  40000   20\n",
       "4    105    Aditi     Naik  37000   20\n",
       "5    106   Suresh     More  36000   10\n",
       "6    107   Sayali     Kale  40000   30\n",
       "7    108  Narayan     More  45000   30\n",
       "8    109     Atif     Khan  34000   10\n",
       "9    110   Ramesh     Gaud  26000   10"
      ]
     },
     "execution_count": 6,
     "metadata": {},
     "output_type": "execute_result"
    }
   ],
   "source": [
    "df"
   ]
  },
  {
   "cell_type": "markdown",
   "id": "f95500a6",
   "metadata": {},
   "source": [
    "# Import the dataframe to sql"
   ]
  },
  {
   "cell_type": "code",
   "execution_count": 7,
   "id": "13e91fae",
   "metadata": {},
   "outputs": [
    {
     "data": {
      "text/plain": [
       "10"
      ]
     },
     "execution_count": 7,
     "metadata": {},
     "output_type": "execute_result"
    }
   ],
   "source": [
    "df.to_sql(\"Employees\",con,if_exists=\"replace\",index=False)"
   ]
  },
  {
   "cell_type": "markdown",
   "id": "f5b3115e",
   "metadata": {},
   "source": [
    "# Seeing the Entire data with select query"
   ]
  },
  {
   "cell_type": "code",
   "execution_count": 8,
   "id": "de695537",
   "metadata": {},
   "outputs": [
    {
     "name": "stdout",
     "output_type": "stream",
     "text": [
      " * sqlite:///SelectQuery.db\n",
      "Done.\n"
     ]
    },
    {
     "data": {
      "text/html": [
       "<table>\n",
       "    <tr>\n",
       "        <th>empid</th>\n",
       "        <th>fname</th>\n",
       "        <th>lname</th>\n",
       "        <th>sal</th>\n",
       "        <th>did</th>\n",
       "    </tr>\n",
       "    <tr>\n",
       "        <td>101</td>\n",
       "        <td>Utkarsh</td>\n",
       "        <td>Gaikwad</td>\n",
       "        <td>20000</td>\n",
       "        <td>10</td>\n",
       "    </tr>\n",
       "    <tr>\n",
       "        <td>102</td>\n",
       "        <td>Sarthak</td>\n",
       "        <td>Sharma</td>\n",
       "        <td>25000</td>\n",
       "        <td>20</td>\n",
       "    </tr>\n",
       "    <tr>\n",
       "        <td>103</td>\n",
       "        <td>Raman</td>\n",
       "        <td>Verma</td>\n",
       "        <td>35000</td>\n",
       "        <td>30</td>\n",
       "    </tr>\n",
       "    <tr>\n",
       "        <td>104</td>\n",
       "        <td>Rakesh</td>\n",
       "        <td>Jain</td>\n",
       "        <td>40000</td>\n",
       "        <td>20</td>\n",
       "    </tr>\n",
       "    <tr>\n",
       "        <td>105</td>\n",
       "        <td>Aditi</td>\n",
       "        <td>Naik</td>\n",
       "        <td>37000</td>\n",
       "        <td>20</td>\n",
       "    </tr>\n",
       "    <tr>\n",
       "        <td>106</td>\n",
       "        <td>Suresh</td>\n",
       "        <td>More</td>\n",
       "        <td>36000</td>\n",
       "        <td>10</td>\n",
       "    </tr>\n",
       "    <tr>\n",
       "        <td>107</td>\n",
       "        <td>Sayali</td>\n",
       "        <td>Kale</td>\n",
       "        <td>40000</td>\n",
       "        <td>30</td>\n",
       "    </tr>\n",
       "    <tr>\n",
       "        <td>108</td>\n",
       "        <td>Narayan</td>\n",
       "        <td>More</td>\n",
       "        <td>45000</td>\n",
       "        <td>30</td>\n",
       "    </tr>\n",
       "    <tr>\n",
       "        <td>109</td>\n",
       "        <td>Atif</td>\n",
       "        <td>Khan</td>\n",
       "        <td>34000</td>\n",
       "        <td>10</td>\n",
       "    </tr>\n",
       "    <tr>\n",
       "        <td>110</td>\n",
       "        <td>Ramesh</td>\n",
       "        <td>Gaud</td>\n",
       "        <td>26000</td>\n",
       "        <td>10</td>\n",
       "    </tr>\n",
       "</table>"
      ],
      "text/plain": [
       "[(101, 'Utkarsh', 'Gaikwad', 20000, 10),\n",
       " (102, 'Sarthak', 'Sharma', 25000, 20),\n",
       " (103, 'Raman', 'Verma', 35000, 30),\n",
       " (104, 'Rakesh', 'Jain', 40000, 20),\n",
       " (105, 'Aditi', 'Naik', 37000, 20),\n",
       " (106, 'Suresh', 'More', 36000, 10),\n",
       " (107, 'Sayali', 'Kale', 40000, 30),\n",
       " (108, 'Narayan', 'More', 45000, 30),\n",
       " (109, 'Atif', 'Khan', 34000, 10),\n",
       " (110, 'Ramesh', 'Gaud', 26000, 10)]"
      ]
     },
     "execution_count": 8,
     "metadata": {},
     "output_type": "execute_result"
    }
   ],
   "source": [
    "%%sql\n",
    "SELECT * FROM Employees;"
   ]
  },
  {
   "cell_type": "markdown",
   "id": "c7c0343a",
   "metadata": {},
   "source": [
    "# Select Specific Columns from the data"
   ]
  },
  {
   "cell_type": "code",
   "execution_count": 9,
   "id": "2261f111",
   "metadata": {},
   "outputs": [
    {
     "name": "stdout",
     "output_type": "stream",
     "text": [
      " * sqlite:///SelectQuery.db\n",
      "Done.\n"
     ]
    },
    {
     "data": {
      "text/html": [
       "<table>\n",
       "    <tr>\n",
       "        <th>fname</th>\n",
       "        <th>lname</th>\n",
       "    </tr>\n",
       "    <tr>\n",
       "        <td>Utkarsh</td>\n",
       "        <td>Gaikwad</td>\n",
       "    </tr>\n",
       "    <tr>\n",
       "        <td>Sarthak</td>\n",
       "        <td>Sharma</td>\n",
       "    </tr>\n",
       "    <tr>\n",
       "        <td>Raman</td>\n",
       "        <td>Verma</td>\n",
       "    </tr>\n",
       "    <tr>\n",
       "        <td>Rakesh</td>\n",
       "        <td>Jain</td>\n",
       "    </tr>\n",
       "    <tr>\n",
       "        <td>Aditi</td>\n",
       "        <td>Naik</td>\n",
       "    </tr>\n",
       "    <tr>\n",
       "        <td>Suresh</td>\n",
       "        <td>More</td>\n",
       "    </tr>\n",
       "    <tr>\n",
       "        <td>Sayali</td>\n",
       "        <td>Kale</td>\n",
       "    </tr>\n",
       "    <tr>\n",
       "        <td>Narayan</td>\n",
       "        <td>More</td>\n",
       "    </tr>\n",
       "    <tr>\n",
       "        <td>Atif</td>\n",
       "        <td>Khan</td>\n",
       "    </tr>\n",
       "    <tr>\n",
       "        <td>Ramesh</td>\n",
       "        <td>Gaud</td>\n",
       "    </tr>\n",
       "</table>"
      ],
      "text/plain": [
       "[('Utkarsh', 'Gaikwad'),\n",
       " ('Sarthak', 'Sharma'),\n",
       " ('Raman', 'Verma'),\n",
       " ('Rakesh', 'Jain'),\n",
       " ('Aditi', 'Naik'),\n",
       " ('Suresh', 'More'),\n",
       " ('Sayali', 'Kale'),\n",
       " ('Narayan', 'More'),\n",
       " ('Atif', 'Khan'),\n",
       " ('Ramesh', 'Gaud')]"
      ]
     },
     "execution_count": 9,
     "metadata": {},
     "output_type": "execute_result"
    }
   ],
   "source": [
    "%%sql\n",
    "SELECT fname,lname FROM Employees;"
   ]
  },
  {
   "cell_type": "code",
   "execution_count": 10,
   "id": "7801e3e7",
   "metadata": {},
   "outputs": [
    {
     "name": "stdout",
     "output_type": "stream",
     "text": [
      " * sqlite:///SelectQuery.db\n",
      "Done.\n"
     ]
    },
    {
     "data": {
      "text/html": [
       "<table>\n",
       "    <tr>\n",
       "        <th>sal</th>\n",
       "        <th>did</th>\n",
       "    </tr>\n",
       "    <tr>\n",
       "        <td>20000</td>\n",
       "        <td>10</td>\n",
       "    </tr>\n",
       "    <tr>\n",
       "        <td>25000</td>\n",
       "        <td>20</td>\n",
       "    </tr>\n",
       "    <tr>\n",
       "        <td>35000</td>\n",
       "        <td>30</td>\n",
       "    </tr>\n",
       "    <tr>\n",
       "        <td>40000</td>\n",
       "        <td>20</td>\n",
       "    </tr>\n",
       "    <tr>\n",
       "        <td>37000</td>\n",
       "        <td>20</td>\n",
       "    </tr>\n",
       "    <tr>\n",
       "        <td>36000</td>\n",
       "        <td>10</td>\n",
       "    </tr>\n",
       "    <tr>\n",
       "        <td>40000</td>\n",
       "        <td>30</td>\n",
       "    </tr>\n",
       "    <tr>\n",
       "        <td>45000</td>\n",
       "        <td>30</td>\n",
       "    </tr>\n",
       "    <tr>\n",
       "        <td>34000</td>\n",
       "        <td>10</td>\n",
       "    </tr>\n",
       "    <tr>\n",
       "        <td>26000</td>\n",
       "        <td>10</td>\n",
       "    </tr>\n",
       "</table>"
      ],
      "text/plain": [
       "[(20000, 10),\n",
       " (25000, 20),\n",
       " (35000, 30),\n",
       " (40000, 20),\n",
       " (37000, 20),\n",
       " (36000, 10),\n",
       " (40000, 30),\n",
       " (45000, 30),\n",
       " (34000, 10),\n",
       " (26000, 10)]"
      ]
     },
     "execution_count": 10,
     "metadata": {},
     "output_type": "execute_result"
    }
   ],
   "source": [
    "%%sql\n",
    "SELECT sal , did FROM Employees;"
   ]
  },
  {
   "cell_type": "markdown",
   "id": "9c24977d",
   "metadata": {},
   "source": [
    "# WHERE Clause"
   ]
  },
  {
   "cell_type": "markdown",
   "id": "c4dd6754",
   "metadata": {},
   "source": [
    "### Find out employees who's salary is greater than or equal to 35000"
   ]
  },
  {
   "cell_type": "code",
   "execution_count": 11,
   "id": "117b0921",
   "metadata": {},
   "outputs": [
    {
     "name": "stdout",
     "output_type": "stream",
     "text": [
      " * sqlite:///SelectQuery.db\n",
      "Done.\n"
     ]
    },
    {
     "data": {
      "text/html": [
       "<table>\n",
       "    <tr>\n",
       "        <th>empid</th>\n",
       "        <th>fname</th>\n",
       "        <th>lname</th>\n",
       "        <th>sal</th>\n",
       "        <th>did</th>\n",
       "    </tr>\n",
       "    <tr>\n",
       "        <td>103</td>\n",
       "        <td>Raman</td>\n",
       "        <td>Verma</td>\n",
       "        <td>35000</td>\n",
       "        <td>30</td>\n",
       "    </tr>\n",
       "    <tr>\n",
       "        <td>104</td>\n",
       "        <td>Rakesh</td>\n",
       "        <td>Jain</td>\n",
       "        <td>40000</td>\n",
       "        <td>20</td>\n",
       "    </tr>\n",
       "    <tr>\n",
       "        <td>105</td>\n",
       "        <td>Aditi</td>\n",
       "        <td>Naik</td>\n",
       "        <td>37000</td>\n",
       "        <td>20</td>\n",
       "    </tr>\n",
       "    <tr>\n",
       "        <td>106</td>\n",
       "        <td>Suresh</td>\n",
       "        <td>More</td>\n",
       "        <td>36000</td>\n",
       "        <td>10</td>\n",
       "    </tr>\n",
       "    <tr>\n",
       "        <td>107</td>\n",
       "        <td>Sayali</td>\n",
       "        <td>Kale</td>\n",
       "        <td>40000</td>\n",
       "        <td>30</td>\n",
       "    </tr>\n",
       "    <tr>\n",
       "        <td>108</td>\n",
       "        <td>Narayan</td>\n",
       "        <td>More</td>\n",
       "        <td>45000</td>\n",
       "        <td>30</td>\n",
       "    </tr>\n",
       "</table>"
      ],
      "text/plain": [
       "[(103, 'Raman', 'Verma', 35000, 30),\n",
       " (104, 'Rakesh', 'Jain', 40000, 20),\n",
       " (105, 'Aditi', 'Naik', 37000, 20),\n",
       " (106, 'Suresh', 'More', 36000, 10),\n",
       " (107, 'Sayali', 'Kale', 40000, 30),\n",
       " (108, 'Narayan', 'More', 45000, 30)]"
      ]
     },
     "execution_count": 11,
     "metadata": {},
     "output_type": "execute_result"
    }
   ],
   "source": [
    "%%sql\n",
    "SELECT * FROM Employees\n",
    "WHERE sal>=35000;"
   ]
  },
  {
   "cell_type": "markdown",
   "id": "a09bc7a6",
   "metadata": {},
   "source": [
    "### Find out employee name who are in did 20"
   ]
  },
  {
   "cell_type": "code",
   "execution_count": 12,
   "id": "22de0279",
   "metadata": {},
   "outputs": [
    {
     "name": "stdout",
     "output_type": "stream",
     "text": [
      " * sqlite:///SelectQuery.db\n",
      "Done.\n"
     ]
    },
    {
     "data": {
      "text/html": [
       "<table>\n",
       "    <tr>\n",
       "        <th>empid</th>\n",
       "        <th>did</th>\n",
       "    </tr>\n",
       "    <tr>\n",
       "        <td>102</td>\n",
       "        <td>20</td>\n",
       "    </tr>\n",
       "    <tr>\n",
       "        <td>104</td>\n",
       "        <td>20</td>\n",
       "    </tr>\n",
       "    <tr>\n",
       "        <td>105</td>\n",
       "        <td>20</td>\n",
       "    </tr>\n",
       "</table>"
      ],
      "text/plain": [
       "[(102, 20), (104, 20), (105, 20)]"
      ]
     },
     "execution_count": 12,
     "metadata": {},
     "output_type": "execute_result"
    }
   ],
   "source": [
    "%%sql\n",
    "SELECT empid,did FROM Employees\n",
    "WHERE did = 20;"
   ]
  },
  {
   "cell_type": "code",
   "execution_count": 13,
   "id": "0a7d33fa",
   "metadata": {},
   "outputs": [
    {
     "name": "stdout",
     "output_type": "stream",
     "text": [
      " * sqlite:///SelectQuery.db\n",
      "Done.\n"
     ]
    },
    {
     "data": {
      "text/html": [
       "<table>\n",
       "    <tr>\n",
       "        <th>empid</th>\n",
       "        <th>fname</th>\n",
       "        <th>lname</th>\n",
       "        <th>did</th>\n",
       "    </tr>\n",
       "    <tr>\n",
       "        <td>102</td>\n",
       "        <td>Sarthak</td>\n",
       "        <td>Sharma</td>\n",
       "        <td>20</td>\n",
       "    </tr>\n",
       "    <tr>\n",
       "        <td>104</td>\n",
       "        <td>Rakesh</td>\n",
       "        <td>Jain</td>\n",
       "        <td>20</td>\n",
       "    </tr>\n",
       "    <tr>\n",
       "        <td>105</td>\n",
       "        <td>Aditi</td>\n",
       "        <td>Naik</td>\n",
       "        <td>20</td>\n",
       "    </tr>\n",
       "</table>"
      ],
      "text/plain": [
       "[(102, 'Sarthak', 'Sharma', 20),\n",
       " (104, 'Rakesh', 'Jain', 20),\n",
       " (105, 'Aditi', 'Naik', 20)]"
      ]
     },
     "execution_count": 13,
     "metadata": {},
     "output_type": "execute_result"
    }
   ],
   "source": [
    "%%sql\n",
    "SELECT empid,fname,lname,did FROM Employees\n",
    "WHERE did = 20;"
   ]
  },
  {
   "cell_type": "markdown",
   "id": "f373de64",
   "metadata": {},
   "source": [
    "### Find out employee first names starting from S"
   ]
  },
  {
   "cell_type": "code",
   "execution_count": 14,
   "id": "dc8d9790",
   "metadata": {},
   "outputs": [
    {
     "name": "stdout",
     "output_type": "stream",
     "text": [
      " * sqlite:///SelectQuery.db\n",
      "Done.\n"
     ]
    },
    {
     "data": {
      "text/html": [
       "<table>\n",
       "    <tr>\n",
       "        <th>empid</th>\n",
       "        <th>fname</th>\n",
       "        <th>lname</th>\n",
       "        <th>sal</th>\n",
       "        <th>did</th>\n",
       "    </tr>\n",
       "    <tr>\n",
       "        <td>102</td>\n",
       "        <td>Sarthak</td>\n",
       "        <td>Sharma</td>\n",
       "        <td>25000</td>\n",
       "        <td>20</td>\n",
       "    </tr>\n",
       "    <tr>\n",
       "        <td>106</td>\n",
       "        <td>Suresh</td>\n",
       "        <td>More</td>\n",
       "        <td>36000</td>\n",
       "        <td>10</td>\n",
       "    </tr>\n",
       "    <tr>\n",
       "        <td>107</td>\n",
       "        <td>Sayali</td>\n",
       "        <td>Kale</td>\n",
       "        <td>40000</td>\n",
       "        <td>30</td>\n",
       "    </tr>\n",
       "</table>"
      ],
      "text/plain": [
       "[(102, 'Sarthak', 'Sharma', 25000, 20),\n",
       " (106, 'Suresh', 'More', 36000, 10),\n",
       " (107, 'Sayali', 'Kale', 40000, 30)]"
      ]
     },
     "execution_count": 14,
     "metadata": {},
     "output_type": "execute_result"
    }
   ],
   "source": [
    "%%sql\n",
    "SELECT * FROM Employees\n",
    "WHERE fname LIKE \"S%\""
   ]
  },
  {
   "cell_type": "markdown",
   "id": "757347ac",
   "metadata": {},
   "source": [
    "### Find employees who's last name ends with e"
   ]
  },
  {
   "cell_type": "code",
   "execution_count": 15,
   "id": "af32e552",
   "metadata": {},
   "outputs": [
    {
     "name": "stdout",
     "output_type": "stream",
     "text": [
      " * sqlite:///SelectQuery.db\n",
      "Done.\n"
     ]
    },
    {
     "data": {
      "text/html": [
       "<table>\n",
       "    <tr>\n",
       "        <th>empid</th>\n",
       "        <th>fname</th>\n",
       "        <th>lname</th>\n",
       "        <th>sal</th>\n",
       "        <th>did</th>\n",
       "    </tr>\n",
       "    <tr>\n",
       "        <td>106</td>\n",
       "        <td>Suresh</td>\n",
       "        <td>More</td>\n",
       "        <td>36000</td>\n",
       "        <td>10</td>\n",
       "    </tr>\n",
       "    <tr>\n",
       "        <td>107</td>\n",
       "        <td>Sayali</td>\n",
       "        <td>Kale</td>\n",
       "        <td>40000</td>\n",
       "        <td>30</td>\n",
       "    </tr>\n",
       "    <tr>\n",
       "        <td>108</td>\n",
       "        <td>Narayan</td>\n",
       "        <td>More</td>\n",
       "        <td>45000</td>\n",
       "        <td>30</td>\n",
       "    </tr>\n",
       "</table>"
      ],
      "text/plain": [
       "[(106, 'Suresh', 'More', 36000, 10),\n",
       " (107, 'Sayali', 'Kale', 40000, 30),\n",
       " (108, 'Narayan', 'More', 45000, 30)]"
      ]
     },
     "execution_count": 15,
     "metadata": {},
     "output_type": "execute_result"
    }
   ],
   "source": [
    "%%sql\n",
    "SELECT * FROM Employees\n",
    "WHERE lname LIKE \"%E\""
   ]
  },
  {
   "cell_type": "markdown",
   "id": "0213e209",
   "metadata": {},
   "source": [
    "# Aggreagation Function - AVG, SUM and COUNT"
   ]
  },
  {
   "cell_type": "markdown",
   "id": "c875004f",
   "metadata": {},
   "source": [
    "### Find out total salary"
   ]
  },
  {
   "cell_type": "code",
   "execution_count": 16,
   "id": "cbfcc1af",
   "metadata": {},
   "outputs": [
    {
     "name": "stdout",
     "output_type": "stream",
     "text": [
      " * sqlite:///SelectQuery.db\n",
      "Done.\n"
     ]
    },
    {
     "data": {
      "text/html": [
       "<table>\n",
       "    <tr>\n",
       "        <th>SUM(sal)</th>\n",
       "    </tr>\n",
       "    <tr>\n",
       "        <td>338000</td>\n",
       "    </tr>\n",
       "</table>"
      ],
      "text/plain": [
       "[(338000,)]"
      ]
     },
     "execution_count": 16,
     "metadata": {},
     "output_type": "execute_result"
    }
   ],
   "source": [
    "%%sql\n",
    "SELECT SUM(sal) FROM Employees;"
   ]
  },
  {
   "cell_type": "markdown",
   "id": "6d4f95b8",
   "metadata": {},
   "source": [
    "### Find out average Salary"
   ]
  },
  {
   "cell_type": "code",
   "execution_count": 17,
   "id": "f3badf2b",
   "metadata": {},
   "outputs": [
    {
     "name": "stdout",
     "output_type": "stream",
     "text": [
      " * sqlite:///SelectQuery.db\n",
      "Done.\n"
     ]
    },
    {
     "data": {
      "text/html": [
       "<table>\n",
       "    <tr>\n",
       "        <th>AVG(sal)</th>\n",
       "    </tr>\n",
       "    <tr>\n",
       "        <td>33800.0</td>\n",
       "    </tr>\n",
       "</table>"
      ],
      "text/plain": [
       "[(33800.0,)]"
      ]
     },
     "execution_count": 17,
     "metadata": {},
     "output_type": "execute_result"
    }
   ],
   "source": [
    "%%sql\n",
    "SELECT AVG(sal) FROM Employees;"
   ]
  },
  {
   "cell_type": "markdown",
   "id": "52422f2d",
   "metadata": {},
   "source": [
    "### Find out empoyee count where sal < 30000"
   ]
  },
  {
   "cell_type": "code",
   "execution_count": 18,
   "id": "98f80600",
   "metadata": {},
   "outputs": [
    {
     "name": "stdout",
     "output_type": "stream",
     "text": [
      " * sqlite:///SelectQuery.db\n",
      "Done.\n"
     ]
    },
    {
     "data": {
      "text/html": [
       "<table>\n",
       "    <tr>\n",
       "        <th>COUNT(empid)</th>\n",
       "    </tr>\n",
       "    <tr>\n",
       "        <td>3</td>\n",
       "    </tr>\n",
       "</table>"
      ],
      "text/plain": [
       "[(3,)]"
      ]
     },
     "execution_count": 18,
     "metadata": {},
     "output_type": "execute_result"
    }
   ],
   "source": [
    "%%sql\n",
    "SELECT COUNT(empid) FROM Employees\n",
    "WHERE sal<30000;"
   ]
  },
  {
   "cell_type": "code",
   "execution_count": 19,
   "id": "3f36e1ed",
   "metadata": {},
   "outputs": [
    {
     "name": "stdout",
     "output_type": "stream",
     "text": [
      " * sqlite:///SelectQuery.db\n",
      "Done.\n"
     ]
    },
    {
     "data": {
      "text/html": [
       "<table>\n",
       "    <tr>\n",
       "        <th>empid</th>\n",
       "        <th>fname</th>\n",
       "        <th>lname</th>\n",
       "        <th>sal</th>\n",
       "        <th>did</th>\n",
       "    </tr>\n",
       "    <tr>\n",
       "        <td>101</td>\n",
       "        <td>Utkarsh</td>\n",
       "        <td>Gaikwad</td>\n",
       "        <td>20000</td>\n",
       "        <td>10</td>\n",
       "    </tr>\n",
       "    <tr>\n",
       "        <td>102</td>\n",
       "        <td>Sarthak</td>\n",
       "        <td>Sharma</td>\n",
       "        <td>25000</td>\n",
       "        <td>20</td>\n",
       "    </tr>\n",
       "    <tr>\n",
       "        <td>103</td>\n",
       "        <td>Raman</td>\n",
       "        <td>Verma</td>\n",
       "        <td>35000</td>\n",
       "        <td>30</td>\n",
       "    </tr>\n",
       "    <tr>\n",
       "        <td>104</td>\n",
       "        <td>Rakesh</td>\n",
       "        <td>Jain</td>\n",
       "        <td>40000</td>\n",
       "        <td>20</td>\n",
       "    </tr>\n",
       "    <tr>\n",
       "        <td>105</td>\n",
       "        <td>Aditi</td>\n",
       "        <td>Naik</td>\n",
       "        <td>37000</td>\n",
       "        <td>20</td>\n",
       "    </tr>\n",
       "    <tr>\n",
       "        <td>106</td>\n",
       "        <td>Suresh</td>\n",
       "        <td>More</td>\n",
       "        <td>36000</td>\n",
       "        <td>10</td>\n",
       "    </tr>\n",
       "    <tr>\n",
       "        <td>107</td>\n",
       "        <td>Sayali</td>\n",
       "        <td>Kale</td>\n",
       "        <td>40000</td>\n",
       "        <td>30</td>\n",
       "    </tr>\n",
       "    <tr>\n",
       "        <td>108</td>\n",
       "        <td>Narayan</td>\n",
       "        <td>More</td>\n",
       "        <td>45000</td>\n",
       "        <td>30</td>\n",
       "    </tr>\n",
       "    <tr>\n",
       "        <td>109</td>\n",
       "        <td>Atif</td>\n",
       "        <td>Khan</td>\n",
       "        <td>34000</td>\n",
       "        <td>10</td>\n",
       "    </tr>\n",
       "    <tr>\n",
       "        <td>110</td>\n",
       "        <td>Ramesh</td>\n",
       "        <td>Gaud</td>\n",
       "        <td>26000</td>\n",
       "        <td>10</td>\n",
       "    </tr>\n",
       "</table>"
      ],
      "text/plain": [
       "[(101, 'Utkarsh', 'Gaikwad', 20000, 10),\n",
       " (102, 'Sarthak', 'Sharma', 25000, 20),\n",
       " (103, 'Raman', 'Verma', 35000, 30),\n",
       " (104, 'Rakesh', 'Jain', 40000, 20),\n",
       " (105, 'Aditi', 'Naik', 37000, 20),\n",
       " (106, 'Suresh', 'More', 36000, 10),\n",
       " (107, 'Sayali', 'Kale', 40000, 30),\n",
       " (108, 'Narayan', 'More', 45000, 30),\n",
       " (109, 'Atif', 'Khan', 34000, 10),\n",
       " (110, 'Ramesh', 'Gaud', 26000, 10)]"
      ]
     },
     "execution_count": 19,
     "metadata": {},
     "output_type": "execute_result"
    }
   ],
   "source": [
    "%%sql\n",
    "SELECT * FROM employees"
   ]
  },
  {
   "cell_type": "markdown",
   "id": "def15173",
   "metadata": {},
   "source": [
    "### Unique values counting"
   ]
  },
  {
   "cell_type": "code",
   "execution_count": 20,
   "id": "51c1669f",
   "metadata": {},
   "outputs": [
    {
     "name": "stdout",
     "output_type": "stream",
     "text": [
      " * sqlite:///SelectQuery.db\n",
      "Done.\n"
     ]
    },
    {
     "data": {
      "text/html": [
       "<table>\n",
       "    <tr>\n",
       "        <th>did</th>\n",
       "    </tr>\n",
       "    <tr>\n",
       "        <td>10</td>\n",
       "    </tr>\n",
       "    <tr>\n",
       "        <td>20</td>\n",
       "    </tr>\n",
       "    <tr>\n",
       "        <td>30</td>\n",
       "    </tr>\n",
       "</table>"
      ],
      "text/plain": [
       "[(10,), (20,), (30,)]"
      ]
     },
     "execution_count": 20,
     "metadata": {},
     "output_type": "execute_result"
    }
   ],
   "source": [
    "%%sql\n",
    "SELECT DISTINCT did FROM Employees;"
   ]
  },
  {
   "cell_type": "code",
   "execution_count": 21,
   "id": "75ca5a44",
   "metadata": {},
   "outputs": [
    {
     "name": "stdout",
     "output_type": "stream",
     "text": [
      " * sqlite:///SelectQuery.db\n",
      "Done.\n"
     ]
    },
    {
     "data": {
      "text/html": [
       "<table>\n",
       "    <tr>\n",
       "        <th>COUNT(DISTINCT did)</th>\n",
       "    </tr>\n",
       "    <tr>\n",
       "        <td>3</td>\n",
       "    </tr>\n",
       "</table>"
      ],
      "text/plain": [
       "[(3,)]"
      ]
     },
     "execution_count": 21,
     "metadata": {},
     "output_type": "execute_result"
    }
   ],
   "source": [
    "%%sql\n",
    "SELECT COUNT(DISTINCT did) FROM Employees;"
   ]
  },
  {
   "cell_type": "code",
   "execution_count": 22,
   "id": "65541fa1",
   "metadata": {},
   "outputs": [
    {
     "name": "stdout",
     "output_type": "stream",
     "text": [
      " * sqlite:///SelectQuery.db\n",
      "Done.\n"
     ]
    },
    {
     "data": {
      "text/html": [
       "<table>\n",
       "    <tr>\n",
       "        <th>empid</th>\n",
       "        <th>fname</th>\n",
       "        <th>lname</th>\n",
       "        <th>sal</th>\n",
       "        <th>did</th>\n",
       "    </tr>\n",
       "    <tr>\n",
       "        <td>101</td>\n",
       "        <td>Utkarsh</td>\n",
       "        <td>Gaikwad</td>\n",
       "        <td>20000</td>\n",
       "        <td>10</td>\n",
       "    </tr>\n",
       "    <tr>\n",
       "        <td>102</td>\n",
       "        <td>Sarthak</td>\n",
       "        <td>Sharma</td>\n",
       "        <td>25000</td>\n",
       "        <td>20</td>\n",
       "    </tr>\n",
       "    <tr>\n",
       "        <td>103</td>\n",
       "        <td>Raman</td>\n",
       "        <td>Verma</td>\n",
       "        <td>35000</td>\n",
       "        <td>30</td>\n",
       "    </tr>\n",
       "    <tr>\n",
       "        <td>104</td>\n",
       "        <td>Rakesh</td>\n",
       "        <td>Jain</td>\n",
       "        <td>40000</td>\n",
       "        <td>20</td>\n",
       "    </tr>\n",
       "    <tr>\n",
       "        <td>105</td>\n",
       "        <td>Aditi</td>\n",
       "        <td>Naik</td>\n",
       "        <td>37000</td>\n",
       "        <td>20</td>\n",
       "    </tr>\n",
       "    <tr>\n",
       "        <td>106</td>\n",
       "        <td>Suresh</td>\n",
       "        <td>More</td>\n",
       "        <td>36000</td>\n",
       "        <td>10</td>\n",
       "    </tr>\n",
       "    <tr>\n",
       "        <td>107</td>\n",
       "        <td>Sayali</td>\n",
       "        <td>Kale</td>\n",
       "        <td>40000</td>\n",
       "        <td>30</td>\n",
       "    </tr>\n",
       "    <tr>\n",
       "        <td>108</td>\n",
       "        <td>Narayan</td>\n",
       "        <td>More</td>\n",
       "        <td>45000</td>\n",
       "        <td>30</td>\n",
       "    </tr>\n",
       "    <tr>\n",
       "        <td>109</td>\n",
       "        <td>Atif</td>\n",
       "        <td>Khan</td>\n",
       "        <td>34000</td>\n",
       "        <td>10</td>\n",
       "    </tr>\n",
       "    <tr>\n",
       "        <td>110</td>\n",
       "        <td>Ramesh</td>\n",
       "        <td>Gaud</td>\n",
       "        <td>26000</td>\n",
       "        <td>10</td>\n",
       "    </tr>\n",
       "</table>"
      ],
      "text/plain": [
       "[(101, 'Utkarsh', 'Gaikwad', 20000, 10),\n",
       " (102, 'Sarthak', 'Sharma', 25000, 20),\n",
       " (103, 'Raman', 'Verma', 35000, 30),\n",
       " (104, 'Rakesh', 'Jain', 40000, 20),\n",
       " (105, 'Aditi', 'Naik', 37000, 20),\n",
       " (106, 'Suresh', 'More', 36000, 10),\n",
       " (107, 'Sayali', 'Kale', 40000, 30),\n",
       " (108, 'Narayan', 'More', 45000, 30),\n",
       " (109, 'Atif', 'Khan', 34000, 10),\n",
       " (110, 'Ramesh', 'Gaud', 26000, 10)]"
      ]
     },
     "execution_count": 22,
     "metadata": {},
     "output_type": "execute_result"
    }
   ],
   "source": [
    "%%sql\n",
    "SELECT * FROM Employees;"
   ]
  },
  {
   "cell_type": "markdown",
   "id": "3a05c19f",
   "metadata": {},
   "source": [
    "### Find Employees whose salary is less than Average Salary"
   ]
  },
  {
   "cell_type": "code",
   "execution_count": 23,
   "id": "06eb5415",
   "metadata": {},
   "outputs": [
    {
     "name": "stdout",
     "output_type": "stream",
     "text": [
      " * sqlite:///SelectQuery.db\n",
      "Done.\n"
     ]
    },
    {
     "data": {
      "text/html": [
       "<table>\n",
       "    <tr>\n",
       "        <th>AVG(sal)</th>\n",
       "    </tr>\n",
       "    <tr>\n",
       "        <td>33800.0</td>\n",
       "    </tr>\n",
       "</table>"
      ],
      "text/plain": [
       "[(33800.0,)]"
      ]
     },
     "execution_count": 23,
     "metadata": {},
     "output_type": "execute_result"
    }
   ],
   "source": [
    "%%sql\n",
    "SELECT AVG(sal) FROM Employees;"
   ]
  },
  {
   "cell_type": "code",
   "execution_count": 24,
   "id": "fa56a307",
   "metadata": {},
   "outputs": [
    {
     "name": "stdout",
     "output_type": "stream",
     "text": [
      " * sqlite:///SelectQuery.db\n",
      "Done.\n"
     ]
    },
    {
     "data": {
      "text/html": [
       "<table>\n",
       "    <tr>\n",
       "        <th>empid</th>\n",
       "        <th>fname</th>\n",
       "        <th>lname</th>\n",
       "        <th>sal</th>\n",
       "        <th>did</th>\n",
       "    </tr>\n",
       "    <tr>\n",
       "        <td>101</td>\n",
       "        <td>Utkarsh</td>\n",
       "        <td>Gaikwad</td>\n",
       "        <td>20000</td>\n",
       "        <td>10</td>\n",
       "    </tr>\n",
       "    <tr>\n",
       "        <td>102</td>\n",
       "        <td>Sarthak</td>\n",
       "        <td>Sharma</td>\n",
       "        <td>25000</td>\n",
       "        <td>20</td>\n",
       "    </tr>\n",
       "    <tr>\n",
       "        <td>110</td>\n",
       "        <td>Ramesh</td>\n",
       "        <td>Gaud</td>\n",
       "        <td>26000</td>\n",
       "        <td>10</td>\n",
       "    </tr>\n",
       "</table>"
      ],
      "text/plain": [
       "[(101, 'Utkarsh', 'Gaikwad', 20000, 10),\n",
       " (102, 'Sarthak', 'Sharma', 25000, 20),\n",
       " (110, 'Ramesh', 'Gaud', 26000, 10)]"
      ]
     },
     "execution_count": 24,
     "metadata": {},
     "output_type": "execute_result"
    }
   ],
   "source": [
    "%%sql\n",
    "SELECT * FROM Employees\n",
    "WHERE sal < (SELECT AVG(sal) FROM Employees);"
   ]
  },
  {
   "cell_type": "markdown",
   "id": "6a4f23e6",
   "metadata": {},
   "source": [
    "# Order by clause"
   ]
  },
  {
   "cell_type": "markdown",
   "id": "a53cec0b",
   "metadata": {},
   "source": [
    "### Sort the employees on basis of Salary in Descending Order"
   ]
  },
  {
   "cell_type": "code",
   "execution_count": 25,
   "id": "57fec60a",
   "metadata": {},
   "outputs": [
    {
     "name": "stdout",
     "output_type": "stream",
     "text": [
      " * sqlite:///SelectQuery.db\n",
      "Done.\n"
     ]
    },
    {
     "data": {
      "text/html": [
       "<table>\n",
       "    <tr>\n",
       "        <th>empid</th>\n",
       "        <th>fname</th>\n",
       "        <th>lname</th>\n",
       "        <th>sal</th>\n",
       "        <th>did</th>\n",
       "    </tr>\n",
       "    <tr>\n",
       "        <td>108</td>\n",
       "        <td>Narayan</td>\n",
       "        <td>More</td>\n",
       "        <td>45000</td>\n",
       "        <td>30</td>\n",
       "    </tr>\n",
       "    <tr>\n",
       "        <td>104</td>\n",
       "        <td>Rakesh</td>\n",
       "        <td>Jain</td>\n",
       "        <td>40000</td>\n",
       "        <td>20</td>\n",
       "    </tr>\n",
       "    <tr>\n",
       "        <td>107</td>\n",
       "        <td>Sayali</td>\n",
       "        <td>Kale</td>\n",
       "        <td>40000</td>\n",
       "        <td>30</td>\n",
       "    </tr>\n",
       "    <tr>\n",
       "        <td>105</td>\n",
       "        <td>Aditi</td>\n",
       "        <td>Naik</td>\n",
       "        <td>37000</td>\n",
       "        <td>20</td>\n",
       "    </tr>\n",
       "    <tr>\n",
       "        <td>106</td>\n",
       "        <td>Suresh</td>\n",
       "        <td>More</td>\n",
       "        <td>36000</td>\n",
       "        <td>10</td>\n",
       "    </tr>\n",
       "    <tr>\n",
       "        <td>103</td>\n",
       "        <td>Raman</td>\n",
       "        <td>Verma</td>\n",
       "        <td>35000</td>\n",
       "        <td>30</td>\n",
       "    </tr>\n",
       "    <tr>\n",
       "        <td>109</td>\n",
       "        <td>Atif</td>\n",
       "        <td>Khan</td>\n",
       "        <td>34000</td>\n",
       "        <td>10</td>\n",
       "    </tr>\n",
       "    <tr>\n",
       "        <td>110</td>\n",
       "        <td>Ramesh</td>\n",
       "        <td>Gaud</td>\n",
       "        <td>26000</td>\n",
       "        <td>10</td>\n",
       "    </tr>\n",
       "    <tr>\n",
       "        <td>102</td>\n",
       "        <td>Sarthak</td>\n",
       "        <td>Sharma</td>\n",
       "        <td>25000</td>\n",
       "        <td>20</td>\n",
       "    </tr>\n",
       "    <tr>\n",
       "        <td>101</td>\n",
       "        <td>Utkarsh</td>\n",
       "        <td>Gaikwad</td>\n",
       "        <td>20000</td>\n",
       "        <td>10</td>\n",
       "    </tr>\n",
       "</table>"
      ],
      "text/plain": [
       "[(108, 'Narayan', 'More', 45000, 30),\n",
       " (104, 'Rakesh', 'Jain', 40000, 20),\n",
       " (107, 'Sayali', 'Kale', 40000, 30),\n",
       " (105, 'Aditi', 'Naik', 37000, 20),\n",
       " (106, 'Suresh', 'More', 36000, 10),\n",
       " (103, 'Raman', 'Verma', 35000, 30),\n",
       " (109, 'Atif', 'Khan', 34000, 10),\n",
       " (110, 'Ramesh', 'Gaud', 26000, 10),\n",
       " (102, 'Sarthak', 'Sharma', 25000, 20),\n",
       " (101, 'Utkarsh', 'Gaikwad', 20000, 10)]"
      ]
     },
     "execution_count": 25,
     "metadata": {},
     "output_type": "execute_result"
    }
   ],
   "source": [
    "%%sql\n",
    "SELECT * FROM Employees\n",
    "ORDER BY sal DESC;"
   ]
  },
  {
   "cell_type": "markdown",
   "id": "68d7fb2d",
   "metadata": {},
   "source": [
    "### Show me names and salary of top3 highest saliried employees"
   ]
  },
  {
   "cell_type": "code",
   "execution_count": 26,
   "id": "32cbaa9c",
   "metadata": {},
   "outputs": [
    {
     "name": "stdout",
     "output_type": "stream",
     "text": [
      " * sqlite:///SelectQuery.db\n",
      "Done.\n"
     ]
    },
    {
     "data": {
      "text/html": [
       "<table>\n",
       "    <tr>\n",
       "        <th>empid</th>\n",
       "        <th>fname</th>\n",
       "        <th>lname</th>\n",
       "        <th>sal</th>\n",
       "        <th>did</th>\n",
       "    </tr>\n",
       "    <tr>\n",
       "        <td>108</td>\n",
       "        <td>Narayan</td>\n",
       "        <td>More</td>\n",
       "        <td>45000</td>\n",
       "        <td>30</td>\n",
       "    </tr>\n",
       "    <tr>\n",
       "        <td>104</td>\n",
       "        <td>Rakesh</td>\n",
       "        <td>Jain</td>\n",
       "        <td>40000</td>\n",
       "        <td>20</td>\n",
       "    </tr>\n",
       "    <tr>\n",
       "        <td>107</td>\n",
       "        <td>Sayali</td>\n",
       "        <td>Kale</td>\n",
       "        <td>40000</td>\n",
       "        <td>30</td>\n",
       "    </tr>\n",
       "</table>"
      ],
      "text/plain": [
       "[(108, 'Narayan', 'More', 45000, 30),\n",
       " (104, 'Rakesh', 'Jain', 40000, 20),\n",
       " (107, 'Sayali', 'Kale', 40000, 30)]"
      ]
     },
     "execution_count": 26,
     "metadata": {},
     "output_type": "execute_result"
    }
   ],
   "source": [
    "%%sql\n",
    "SELECT * FROM Employees\n",
    "ORDER BY sal DESC\n",
    "LIMIT 3;"
   ]
  },
  {
   "cell_type": "markdown",
   "id": "f3b5e35a",
   "metadata": {},
   "source": [
    "# Group By Clause"
   ]
  },
  {
   "cell_type": "markdown",
   "id": "9107be81",
   "metadata": {},
   "source": [
    "### Find out average salary based on department id"
   ]
  },
  {
   "cell_type": "code",
   "execution_count": 27,
   "id": "6added16",
   "metadata": {},
   "outputs": [
    {
     "name": "stdout",
     "output_type": "stream",
     "text": [
      " * sqlite:///SelectQuery.db\n",
      "Done.\n"
     ]
    },
    {
     "data": {
      "text/html": [
       "<table>\n",
       "    <tr>\n",
       "        <th>did</th>\n",
       "        <th>AVG(sal)</th>\n",
       "    </tr>\n",
       "    <tr>\n",
       "        <td>10</td>\n",
       "        <td>29000.0</td>\n",
       "    </tr>\n",
       "    <tr>\n",
       "        <td>20</td>\n",
       "        <td>34000.0</td>\n",
       "    </tr>\n",
       "    <tr>\n",
       "        <td>30</td>\n",
       "        <td>40000.0</td>\n",
       "    </tr>\n",
       "</table>"
      ],
      "text/plain": [
       "[(10, 29000.0), (20, 34000.0), (30, 40000.0)]"
      ]
     },
     "execution_count": 27,
     "metadata": {},
     "output_type": "execute_result"
    }
   ],
   "source": [
    "%%sql\n",
    "SELECT did , AVG(sal) FROM Employees\n",
    "GROUP BY did;"
   ]
  },
  {
   "cell_type": "code",
   "execution_count": 28,
   "id": "ce69d1c1",
   "metadata": {},
   "outputs": [
    {
     "name": "stdout",
     "output_type": "stream",
     "text": [
      " * sqlite:///SelectQuery.db\n",
      "Done.\n"
     ]
    },
    {
     "data": {
      "text/html": [
       "<table>\n",
       "    <tr>\n",
       "        <th>did</th>\n",
       "        <th>AVG(sal)</th>\n",
       "    </tr>\n",
       "    <tr>\n",
       "        <td>30</td>\n",
       "        <td>40000.0</td>\n",
       "    </tr>\n",
       "    <tr>\n",
       "        <td>20</td>\n",
       "        <td>34000.0</td>\n",
       "    </tr>\n",
       "    <tr>\n",
       "        <td>10</td>\n",
       "        <td>29000.0</td>\n",
       "    </tr>\n",
       "</table>"
      ],
      "text/plain": [
       "[(30, 40000.0), (20, 34000.0), (10, 29000.0)]"
      ]
     },
     "execution_count": 28,
     "metadata": {},
     "output_type": "execute_result"
    }
   ],
   "source": [
    "%%sql\n",
    "SELECT did, AVG(sal) FROM Employees\n",
    "GROUP BY did\n",
    "ORDER BY AVG(sal) DESC;"
   ]
  },
  {
   "cell_type": "code",
   "execution_count": null,
   "id": "f624509a",
   "metadata": {},
   "outputs": [],
   "source": []
  }
 ],
 "metadata": {
  "kernelspec": {
   "display_name": "Python 3 (ipykernel)",
   "language": "python",
   "name": "python3"
  },
  "language_info": {
   "codemirror_mode": {
    "name": "ipython",
    "version": 3
   },
   "file_extension": ".py",
   "mimetype": "text/x-python",
   "name": "python",
   "nbconvert_exporter": "python",
   "pygments_lexer": "ipython3",
   "version": "3.9.12"
  }
 },
 "nbformat": 4,
 "nbformat_minor": 5
}
