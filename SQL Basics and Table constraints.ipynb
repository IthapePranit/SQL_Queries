{
 "cells": [
  {
   "cell_type": "markdown",
   "id": "4e390e42",
   "metadata": {},
   "source": [
    "# SQL Basic "
   ]
  },
  {
   "cell_type": "markdown",
   "id": "2b2aae07",
   "metadata": {},
   "source": [
    "## Step 1 : Installing Dependencies"
   ]
  },
  {
   "cell_type": "code",
   "execution_count": 1,
   "id": "05b5ac34",
   "metadata": {},
   "outputs": [
    {
     "name": "stdout",
     "output_type": "stream",
     "text": [
      "Defaulting to user installation because normal site-packages is not writeable\n",
      "Requirement already satisfied: sqlalchemy==1.3.9 in c:\\users\\pranit\\appdata\\roaming\\python\\python39\\site-packages (1.3.9)\n",
      "Requirement already satisfied: ipython-sql in c:\\users\\pranit\\appdata\\roaming\\python\\python39\\site-packages (0.4.1)\n",
      "Requirement already satisfied: ipython>=1.0 in c:\\programdata\\anaconda3\\lib\\site-packages (from ipython-sql) (8.2.0)\n",
      "Requirement already satisfied: ipython-genutils>=0.1.0 in c:\\programdata\\anaconda3\\lib\\site-packages (from ipython-sql) (0.2.0)\n",
      "Requirement already satisfied: six in c:\\programdata\\anaconda3\\lib\\site-packages (from ipython-sql) (1.16.0)\n",
      "Requirement already satisfied: sqlparse in c:\\users\\pranit\\appdata\\roaming\\python\\python39\\site-packages (from ipython-sql) (0.4.3)\n",
      "Requirement already satisfied: prettytable<1 in c:\\users\\pranit\\appdata\\roaming\\python\\python39\\site-packages (from ipython-sql) (0.7.2)\n",
      "Requirement already satisfied: setuptools>=18.5 in c:\\programdata\\anaconda3\\lib\\site-packages (from ipython>=1.0->ipython-sql) (61.2.0)\n",
      "Requirement already satisfied: traitlets>=5 in c:\\programdata\\anaconda3\\lib\\site-packages (from ipython>=1.0->ipython-sql) (5.1.1)\n",
      "Requirement already satisfied: backcall in c:\\programdata\\anaconda3\\lib\\site-packages (from ipython>=1.0->ipython-sql) (0.2.0)\n",
      "Requirement already satisfied: pygments>=2.4.0 in c:\\programdata\\anaconda3\\lib\\site-packages (from ipython>=1.0->ipython-sql) (2.11.2)\n",
      "Requirement already satisfied: matplotlib-inline in c:\\programdata\\anaconda3\\lib\\site-packages (from ipython>=1.0->ipython-sql) (0.1.2)\n",
      "Requirement already satisfied: decorator in c:\\programdata\\anaconda3\\lib\\site-packages (from ipython>=1.0->ipython-sql) (5.1.1)\n",
      "Requirement already satisfied: prompt-toolkit!=3.0.0,!=3.0.1,<3.1.0,>=2.0.0 in c:\\programdata\\anaconda3\\lib\\site-packages (from ipython>=1.0->ipython-sql) (3.0.20)\n",
      "Requirement already satisfied: pickleshare in c:\\programdata\\anaconda3\\lib\\site-packages (from ipython>=1.0->ipython-sql) (0.7.5)\n",
      "Requirement already satisfied: colorama in c:\\programdata\\anaconda3\\lib\\site-packages (from ipython>=1.0->ipython-sql) (0.4.4)\n",
      "Requirement already satisfied: jedi>=0.16 in c:\\programdata\\anaconda3\\lib\\site-packages (from ipython>=1.0->ipython-sql) (0.18.1)\n",
      "Requirement already satisfied: stack-data in c:\\programdata\\anaconda3\\lib\\site-packages (from ipython>=1.0->ipython-sql) (0.2.0)\n",
      "Requirement already satisfied: parso<0.9.0,>=0.8.0 in c:\\programdata\\anaconda3\\lib\\site-packages (from jedi>=0.16->ipython>=1.0->ipython-sql) (0.8.3)\n",
      "Requirement already satisfied: wcwidth in c:\\programdata\\anaconda3\\lib\\site-packages (from prompt-toolkit!=3.0.0,!=3.0.1,<3.1.0,>=2.0.0->ipython>=1.0->ipython-sql) (0.2.5)\n",
      "Requirement already satisfied: asttokens in c:\\programdata\\anaconda3\\lib\\site-packages (from stack-data->ipython>=1.0->ipython-sql) (2.0.5)\n",
      "Requirement already satisfied: executing in c:\\programdata\\anaconda3\\lib\\site-packages (from stack-data->ipython>=1.0->ipython-sql) (0.8.3)\n",
      "Requirement already satisfied: pure-eval in c:\\programdata\\anaconda3\\lib\\site-packages (from stack-data->ipython>=1.0->ipython-sql) (0.2.2)\n"
     ]
    }
   ],
   "source": [
    "!pip install sqlalchemy==1.3.9 ipython-sql"
   ]
  },
  {
   "cell_type": "markdown",
   "id": "0c3b95c9",
   "metadata": {},
   "source": [
    "# Restart and run all in Kernel\n",
    "     Kernel ---> Restart and Run All"
   ]
  },
  {
   "cell_type": "code",
   "execution_count": 2,
   "id": "765f6234",
   "metadata": {},
   "outputs": [],
   "source": [
    "%load_ext sql"
   ]
  },
  {
   "cell_type": "code",
   "execution_count": 3,
   "id": "e702dcf4",
   "metadata": {},
   "outputs": [],
   "source": [
    "import csv , sqlite3\n",
    "con = sqlite3.connect(\"basics.db\")\n",
    "cur = con.cursor()"
   ]
  },
  {
   "cell_type": "code",
   "execution_count": 4,
   "id": "8b827367",
   "metadata": {},
   "outputs": [],
   "source": [
    "%sql sqlite:///basics.db"
   ]
  },
  {
   "cell_type": "markdown",
   "id": "8732aa57",
   "metadata": {},
   "source": [
    "# Start perfoming SQL operations"
   ]
  },
  {
   "cell_type": "markdown",
   "id": "95cc5c7b",
   "metadata": {},
   "source": [
    "# Syntax for creating a table\n",
    "~~~sql\n",
    "CREATE TABLE \"table name\"\n",
    "    (column1 datatype1,\n",
    "    column2 datatype2,\n",
    "    column3 datatype3):\n",
    "~~~"
   ]
  },
  {
   "cell_type": "markdown",
   "id": "917498b5",
   "metadata": {},
   "source": [
    "# Example : Create table \"users\" with below columns"
   ]
  },
  {
   "cell_type": "raw",
   "id": "8b3ac20a",
   "metadata": {},
   "source": [
    "id\n",
    "name\n",
    "age\n",
    "email"
   ]
  },
  {
   "cell_type": "code",
   "execution_count": 7,
   "id": "7d925a67",
   "metadata": {},
   "outputs": [
    {
     "name": "stdout",
     "output_type": "stream",
     "text": [
      " * sqlite:///basics.db\n",
      "Done.\n"
     ]
    },
    {
     "data": {
      "text/plain": [
       "[]"
      ]
     },
     "execution_count": 7,
     "metadata": {},
     "output_type": "execute_result"
    }
   ],
   "source": [
    "%%sql\n",
    "CREATE TABLE users\n",
    "   (id int,\n",
    "    name varchar(20),\n",
    "    age int,\n",
    "    email varchar(50));"
   ]
  },
  {
   "cell_type": "markdown",
   "id": "f9f6b696",
   "metadata": {},
   "source": [
    "# To View your table use SELECT Query\n",
    "        SELECT ColumnNames from TableName\n",
    "For seeing all columns use * symbol"
   ]
  },
  {
   "cell_type": "code",
   "execution_count": 8,
   "id": "d98ebb5c",
   "metadata": {},
   "outputs": [
    {
     "name": "stdout",
     "output_type": "stream",
     "text": [
      " * sqlite:///basics.db\n",
      "Done.\n"
     ]
    },
    {
     "data": {
      "text/html": [
       "<table>\n",
       "    <tr>\n",
       "        <th>id</th>\n",
       "        <th>name</th>\n",
       "        <th>age</th>\n",
       "        <th>email</th>\n",
       "    </tr>\n",
       "</table>"
      ],
      "text/plain": [
       "[]"
      ]
     },
     "execution_count": 8,
     "metadata": {},
     "output_type": "execute_result"
    }
   ],
   "source": [
    "%%sql\n",
    "SELECT * from users"
   ]
  },
  {
   "cell_type": "markdown",
   "id": "5ef6ec8a",
   "metadata": {},
   "source": [
    "# Inserting data into colums\n",
    "~~~sql\n",
    "INSERT INTO table name\n",
    "VALUES (col1data , col2data , col3data....);\n",
    "~~~"
   ]
  },
  {
   "cell_type": "code",
   "execution_count": 9,
   "id": "ef8140b6",
   "metadata": {},
   "outputs": [
    {
     "name": "stdout",
     "output_type": "stream",
     "text": [
      " * sqlite:///basics.db\n",
      "1 rows affected.\n"
     ]
    },
    {
     "data": {
      "text/plain": [
       "[]"
      ]
     },
     "execution_count": 9,
     "metadata": {},
     "output_type": "execute_result"
    }
   ],
   "source": [
    "%%sql\n",
    "INSERT INTO users\n",
    "VALUES (1,\"pranit\",25,\"ithapepranit8@gmail.com\");"
   ]
  },
  {
   "cell_type": "code",
   "execution_count": 10,
   "id": "14b76e90",
   "metadata": {},
   "outputs": [
    {
     "name": "stdout",
     "output_type": "stream",
     "text": [
      " * sqlite:///basics.db\n",
      "Done.\n"
     ]
    },
    {
     "data": {
      "text/html": [
       "<table>\n",
       "    <tr>\n",
       "        <th>id</th>\n",
       "        <th>name</th>\n",
       "        <th>age</th>\n",
       "        <th>email</th>\n",
       "    </tr>\n",
       "    <tr>\n",
       "        <td>1</td>\n",
       "        <td>pranit</td>\n",
       "        <td>25</td>\n",
       "        <td>ithapepranit8@gmail.com</td>\n",
       "    </tr>\n",
       "</table>"
      ],
      "text/plain": [
       "[(1, 'pranit', 25, 'ithapepranit8@gmail.com')]"
      ]
     },
     "execution_count": 10,
     "metadata": {},
     "output_type": "execute_result"
    }
   ],
   "source": [
    "%%sql\n",
    "SELECT * from users"
   ]
  },
  {
   "cell_type": "markdown",
   "id": "73a76abd",
   "metadata": {},
   "source": [
    "# Adding multiple data using INSERT Query\n",
    "~~~sql\n",
    "INSERT INTO Tablename\n",
    "VALUES (col1data,col2data , col3data ,col4data),\n",
    "       (col1data,col2data , col3data ,col4data),\n",
    "       (col1data,col2data , col3data ,col4data),\n",
    "       (col1data,col2data , col3data ,col4data);\n",
    "~~~"
   ]
  },
  {
   "cell_type": "code",
   "execution_count": 11,
   "id": "96b78410",
   "metadata": {},
   "outputs": [
    {
     "name": "stdout",
     "output_type": "stream",
     "text": [
      " * sqlite:///basics.db\n",
      "3 rows affected.\n"
     ]
    },
    {
     "data": {
      "text/plain": [
       "[]"
      ]
     },
     "execution_count": 11,
     "metadata": {},
     "output_type": "execute_result"
    }
   ],
   "source": [
    "%%sql\n",
    "INSERT INTO users\n",
    "VALUES (2, \"sona\",22,\"sona@gmail.com\"),\n",
    "       (3, \"xyz\",34,\"asv@gmail.com\"),\n",
    "       (4, \"bcg\",88,\"dfg@gmail.com\");"
   ]
  },
  {
   "cell_type": "code",
   "execution_count": 12,
   "id": "cd63e94a",
   "metadata": {},
   "outputs": [
    {
     "name": "stdout",
     "output_type": "stream",
     "text": [
      " * sqlite:///basics.db\n",
      "Done.\n"
     ]
    },
    {
     "data": {
      "text/html": [
       "<table>\n",
       "    <tr>\n",
       "        <th>id</th>\n",
       "        <th>name</th>\n",
       "        <th>age</th>\n",
       "        <th>email</th>\n",
       "    </tr>\n",
       "    <tr>\n",
       "        <td>1</td>\n",
       "        <td>pranit</td>\n",
       "        <td>25</td>\n",
       "        <td>ithapepranit8@gmail.com</td>\n",
       "    </tr>\n",
       "    <tr>\n",
       "        <td>2</td>\n",
       "        <td>sona</td>\n",
       "        <td>22</td>\n",
       "        <td>sona@gmail.com</td>\n",
       "    </tr>\n",
       "    <tr>\n",
       "        <td>3</td>\n",
       "        <td>xyz</td>\n",
       "        <td>34</td>\n",
       "        <td>asv@gmail.com</td>\n",
       "    </tr>\n",
       "    <tr>\n",
       "        <td>4</td>\n",
       "        <td>bcg</td>\n",
       "        <td>88</td>\n",
       "        <td>dfg@gmail.com</td>\n",
       "    </tr>\n",
       "</table>"
      ],
      "text/plain": [
       "[(1, 'pranit', 25, 'ithapepranit8@gmail.com'),\n",
       " (2, 'sona', 22, 'sona@gmail.com'),\n",
       " (3, 'xyz', 34, 'asv@gmail.com'),\n",
       " (4, 'bcg', 88, 'dfg@gmail.com')]"
      ]
     },
     "execution_count": 12,
     "metadata": {},
     "output_type": "execute_result"
    }
   ],
   "source": [
    "%%sql\n",
    "SELECT * FROM users"
   ]
  },
  {
   "cell_type": "markdown",
   "id": "07bf1eb9",
   "metadata": {},
   "source": [
    "# SESSION 2 : Table Constraints"
   ]
  },
  {
   "cell_type": "code",
   "execution_count": 13,
   "id": "be8a6940",
   "metadata": {},
   "outputs": [
    {
     "name": "stdout",
     "output_type": "stream",
     "text": [
      "The sql extension is already loaded. To reload it, use:\n",
      "  %reload_ext sql\n"
     ]
    }
   ],
   "source": [
    "%load_ext sql"
   ]
  },
  {
   "cell_type": "code",
   "execution_count": 14,
   "id": "9e8e2d28",
   "metadata": {},
   "outputs": [],
   "source": [
    "import csv , sqlite3\n",
    "con  = sqlite3.connect(\"my_data.db\")\n",
    "cur = con.cursor()"
   ]
  },
  {
   "cell_type": "code",
   "execution_count": 16,
   "id": "f2affa8c",
   "metadata": {},
   "outputs": [],
   "source": [
    "%sql sqlite:///my_data.db"
   ]
  },
  {
   "cell_type": "markdown",
   "id": "5daf44c7",
   "metadata": {},
   "source": [
    "# SQL Queries can now be executed in python"
   ]
  },
  {
   "cell_type": "markdown",
   "id": "a77dbaab",
   "metadata": {},
   "source": [
    "# Deprtment Table creation with Constraints"
   ]
  },
  {
   "cell_type": "code",
   "execution_count": 17,
   "id": "f2b71cc1",
   "metadata": {},
   "outputs": [
    {
     "name": "stdout",
     "output_type": "stream",
     "text": [
      "   sqlite:///basics.db\n",
      " * sqlite:///my_data.db\n",
      "Done.\n"
     ]
    },
    {
     "data": {
      "text/plain": [
       "[]"
      ]
     },
     "execution_count": 17,
     "metadata": {},
     "output_type": "execute_result"
    }
   ],
   "source": [
    "%%sql\n",
    "CREATE TABLE Department\n",
    "   (departmentID INT PRIMARY KEY NOT NULL,\n",
    "    DepartmentName VARCHAR(50) NOT NULL);"
   ]
  },
  {
   "cell_type": "code",
   "execution_count": 18,
   "id": "1a57ac97",
   "metadata": {},
   "outputs": [
    {
     "name": "stdout",
     "output_type": "stream",
     "text": [
      "   sqlite:///basics.db\n",
      " * sqlite:///my_data.db\n",
      "Done.\n"
     ]
    },
    {
     "data": {
      "text/html": [
       "<table>\n",
       "    <tr>\n",
       "        <th>departmentID</th>\n",
       "        <th>DepartmentName</th>\n",
       "    </tr>\n",
       "</table>"
      ],
      "text/plain": [
       "[]"
      ]
     },
     "execution_count": 18,
     "metadata": {},
     "output_type": "execute_result"
    }
   ],
   "source": [
    "%%sql\n",
    "SELECT * FROM Department"
   ]
  },
  {
   "cell_type": "code",
   "execution_count": 23,
   "id": "c1bd6989",
   "metadata": {},
   "outputs": [
    {
     "name": "stdout",
     "output_type": "stream",
     "text": [
      "   sqlite:///basics.db\n",
      " * sqlite:///my_data.db\n",
      "Done.\n"
     ]
    },
    {
     "data": {
      "text/html": [
       "<table>\n",
       "    <tr>\n",
       "        <th>departmentID</th>\n",
       "        <th>DepartmentName</th>\n",
       "    </tr>\n",
       "    <tr>\n",
       "        <td>1</td>\n",
       "        <td>ajay</td>\n",
       "    </tr>\n",
       "</table>"
      ],
      "text/plain": [
       "[(1, 'ajay')]"
      ]
     },
     "execution_count": 23,
     "metadata": {},
     "output_type": "execute_result"
    }
   ],
   "source": [
    "%%sql\n",
    "SELECT * FROM Department"
   ]
  },
  {
   "cell_type": "code",
   "execution_count": 25,
   "id": "effc7724",
   "metadata": {},
   "outputs": [
    {
     "name": "stdout",
     "output_type": "stream",
     "text": [
      "   sqlite:///basics.db\n",
      " * sqlite:///my_data.db\n",
      "1 rows affected.\n"
     ]
    },
    {
     "data": {
      "text/plain": [
       "[]"
      ]
     },
     "execution_count": 25,
     "metadata": {},
     "output_type": "execute_result"
    }
   ],
   "source": [
    "%%sql\n",
    "INSERT INTO Department\n",
    "VALUES (2,\"SALES\");"
   ]
  },
  {
   "cell_type": "code",
   "execution_count": 26,
   "id": "080f393a",
   "metadata": {},
   "outputs": [
    {
     "name": "stdout",
     "output_type": "stream",
     "text": [
      "   sqlite:///basics.db\n",
      " * sqlite:///my_data.db\n",
      "Done.\n"
     ]
    },
    {
     "data": {
      "text/html": [
       "<table>\n",
       "    <tr>\n",
       "        <th>departmentID</th>\n",
       "        <th>DepartmentName</th>\n",
       "    </tr>\n",
       "    <tr>\n",
       "        <td>1</td>\n",
       "        <td>ajay</td>\n",
       "    </tr>\n",
       "    <tr>\n",
       "        <td>2</td>\n",
       "        <td>SALES</td>\n",
       "    </tr>\n",
       "</table>"
      ],
      "text/plain": [
       "[(1, 'ajay'), (2, 'SALES')]"
      ]
     },
     "execution_count": 26,
     "metadata": {},
     "output_type": "execute_result"
    }
   ],
   "source": [
    "%%sql\n",
    "SELECT * FROM Department"
   ]
  },
  {
   "cell_type": "code",
   "execution_count": 27,
   "id": "4ad3da86",
   "metadata": {},
   "outputs": [
    {
     "name": "stdout",
     "output_type": "stream",
     "text": [
      "   sqlite:///basics.db\n",
      " * sqlite:///my_data.db\n",
      "1 rows affected.\n"
     ]
    },
    {
     "data": {
      "text/plain": [
       "[]"
      ]
     },
     "execution_count": 27,
     "metadata": {},
     "output_type": "execute_result"
    }
   ],
   "source": [
    "%%sql\n",
    "INSERT INTO Department\n",
    "VALUES(3,'Accounts')"
   ]
  },
  {
   "cell_type": "code",
   "execution_count": 28,
   "id": "35541987",
   "metadata": {},
   "outputs": [
    {
     "name": "stdout",
     "output_type": "stream",
     "text": [
      "   sqlite:///basics.db\n",
      " * sqlite:///my_data.db\n",
      "Done.\n"
     ]
    },
    {
     "data": {
      "text/html": [
       "<table>\n",
       "    <tr>\n",
       "        <th>departmentID</th>\n",
       "        <th>DepartmentName</th>\n",
       "    </tr>\n",
       "    <tr>\n",
       "        <td>1</td>\n",
       "        <td>ajay</td>\n",
       "    </tr>\n",
       "    <tr>\n",
       "        <td>2</td>\n",
       "        <td>SALES</td>\n",
       "    </tr>\n",
       "    <tr>\n",
       "        <td>3</td>\n",
       "        <td>Accounts</td>\n",
       "    </tr>\n",
       "</table>"
      ],
      "text/plain": [
       "[(1, 'ajay'), (2, 'SALES'), (3, 'Accounts')]"
      ]
     },
     "execution_count": 28,
     "metadata": {},
     "output_type": "execute_result"
    }
   ],
   "source": [
    "%%sql\n",
    "SELECT * FROM Department"
   ]
  },
  {
   "cell_type": "code",
   "execution_count": 29,
   "id": "f902835c",
   "metadata": {},
   "outputs": [
    {
     "name": "stdout",
     "output_type": "stream",
     "text": [
      "   sqlite:///basics.db\n",
      " * sqlite:///my_data.db\n",
      "(sqlite3.IntegrityError) NOT NULL constraint failed: Department.DepartmentName\n",
      "[SQL: INSERT INTO Department\n",
      "VALUES (5, NULL)]\n",
      "(Background on this error at: http://sqlalche.me/e/gkpj)\n"
     ]
    }
   ],
   "source": [
    "%%sql \n",
    "INSERT INTO Department\n",
    "VALUES (5, NULL)"
   ]
  },
  {
   "cell_type": "code",
   "execution_count": 30,
   "id": "9c0428db",
   "metadata": {},
   "outputs": [
    {
     "name": "stdout",
     "output_type": "stream",
     "text": [
      "   sqlite:///basics.db\n",
      " * sqlite:///my_data.db\n",
      "Done.\n"
     ]
    },
    {
     "data": {
      "text/html": [
       "<table>\n",
       "    <tr>\n",
       "        <th>departmentID</th>\n",
       "        <th>DepartmentName</th>\n",
       "    </tr>\n",
       "    <tr>\n",
       "        <td>1</td>\n",
       "        <td>ajay</td>\n",
       "    </tr>\n",
       "    <tr>\n",
       "        <td>2</td>\n",
       "        <td>SALES</td>\n",
       "    </tr>\n",
       "    <tr>\n",
       "        <td>3</td>\n",
       "        <td>Accounts</td>\n",
       "    </tr>\n",
       "</table>"
      ],
      "text/plain": [
       "[(1, 'ajay'), (2, 'SALES'), (3, 'Accounts')]"
      ]
     },
     "execution_count": 30,
     "metadata": {},
     "output_type": "execute_result"
    }
   ],
   "source": [
    "%%sql                                    # null values are not added\n",
    "SELECT * FROM Department"
   ]
  },
  {
   "cell_type": "markdown",
   "id": "042d975f",
   "metadata": {},
   "source": [
    "# Creating Employee Data table\n",
    "    Employee ID\n",
    "    FirstName\n",
    "    LastName\n",
    "    Email\n",
    "    DepartmentID\n",
    "    Salary\n",
    "    Hiring Date"
   ]
  },
  {
   "cell_type": "code",
   "execution_count": 31,
   "id": "1e6aac20",
   "metadata": {},
   "outputs": [
    {
     "name": "stdout",
     "output_type": "stream",
     "text": [
      "   sqlite:///basics.db\n",
      " * sqlite:///my_data.db\n",
      "Done.\n"
     ]
    },
    {
     "data": {
      "text/plain": [
       "[]"
      ]
     },
     "execution_count": 31,
     "metadata": {},
     "output_type": "execute_result"
    }
   ],
   "source": [
    "%%sql\n",
    "CREATE TABLE Employee\n",
    "     (EmployeeID INT PRIMARY KEY NOT NULL,\n",
    "      FirstName VARCHAR(50) NOT NULL,\n",
    "      LastName VARCHAR(50) NOT NULL,\n",
    "      Email VARCHAR(100) UNIQUE,\n",
    "      DepartmentId INT,\n",
    "      Salary INT CHECK(Salary>0),\n",
    "      constraint fk_departmentID\n",
    "      foreign key(DepartmentID)\n",
    "      References Department(departmentID));"
   ]
  },
  {
   "cell_type": "code",
   "execution_count": 32,
   "id": "271bc5f8",
   "metadata": {},
   "outputs": [
    {
     "name": "stdout",
     "output_type": "stream",
     "text": [
      "   sqlite:///basics.db\n",
      " * sqlite:///my_data.db\n",
      "Done.\n"
     ]
    },
    {
     "data": {
      "text/html": [
       "<table>\n",
       "    <tr>\n",
       "        <th>EmployeeID</th>\n",
       "        <th>FirstName</th>\n",
       "        <th>LastName</th>\n",
       "        <th>Email</th>\n",
       "        <th>DepartmentId</th>\n",
       "        <th>Salary</th>\n",
       "    </tr>\n",
       "</table>"
      ],
      "text/plain": [
       "[]"
      ]
     },
     "execution_count": 32,
     "metadata": {},
     "output_type": "execute_result"
    }
   ],
   "source": [
    "%%sql\n",
    "SELECT * FROM Employee"
   ]
  },
  {
   "cell_type": "code",
   "execution_count": 33,
   "id": "5f65c59f",
   "metadata": {},
   "outputs": [
    {
     "name": "stdout",
     "output_type": "stream",
     "text": [
      "   sqlite:///basics.db\n",
      " * sqlite:///my_data.db\n",
      "4 rows affected.\n"
     ]
    },
    {
     "data": {
      "text/plain": [
       "[]"
      ]
     },
     "execution_count": 33,
     "metadata": {},
     "output_type": "execute_result"
    }
   ],
   "source": [
    "%%sql \n",
    "INSERT INTO Employee\n",
    "VALUES (1,'Utkarsh','Gaikwad','utkarsh.etlhive@gmail.com',3,25000),\n",
    "       (2,'Sarthak','Sharma','test@test.com',1,20000),\n",
    "       (3,'Sayali','More','example@gmail.com',2,30000),\n",
    "       (4,'Raman','Verma','raman@gmail.com',4,40000);"
   ]
  },
  {
   "cell_type": "code",
   "execution_count": 34,
   "id": "a5dd94a9",
   "metadata": {},
   "outputs": [
    {
     "name": "stdout",
     "output_type": "stream",
     "text": [
      "   sqlite:///basics.db\n",
      " * sqlite:///my_data.db\n",
      "Done.\n"
     ]
    },
    {
     "data": {
      "text/html": [
       "<table>\n",
       "    <tr>\n",
       "        <th>EmployeeID</th>\n",
       "        <th>FirstName</th>\n",
       "        <th>LastName</th>\n",
       "        <th>Email</th>\n",
       "        <th>DepartmentId</th>\n",
       "        <th>Salary</th>\n",
       "    </tr>\n",
       "    <tr>\n",
       "        <td>1</td>\n",
       "        <td>Utkarsh</td>\n",
       "        <td>Gaikwad</td>\n",
       "        <td>utkarsh.etlhive@gmail.com</td>\n",
       "        <td>3</td>\n",
       "        <td>25000</td>\n",
       "    </tr>\n",
       "    <tr>\n",
       "        <td>2</td>\n",
       "        <td>Sarthak</td>\n",
       "        <td>Sharma</td>\n",
       "        <td>test@test.com</td>\n",
       "        <td>1</td>\n",
       "        <td>20000</td>\n",
       "    </tr>\n",
       "    <tr>\n",
       "        <td>3</td>\n",
       "        <td>Sayali</td>\n",
       "        <td>More</td>\n",
       "        <td>example@gmail.com</td>\n",
       "        <td>2</td>\n",
       "        <td>30000</td>\n",
       "    </tr>\n",
       "    <tr>\n",
       "        <td>4</td>\n",
       "        <td>Raman</td>\n",
       "        <td>Verma</td>\n",
       "        <td>raman@gmail.com</td>\n",
       "        <td>4</td>\n",
       "        <td>40000</td>\n",
       "    </tr>\n",
       "</table>"
      ],
      "text/plain": [
       "[(1, 'Utkarsh', 'Gaikwad', 'utkarsh.etlhive@gmail.com', 3, 25000),\n",
       " (2, 'Sarthak', 'Sharma', 'test@test.com', 1, 20000),\n",
       " (3, 'Sayali', 'More', 'example@gmail.com', 2, 30000),\n",
       " (4, 'Raman', 'Verma', 'raman@gmail.com', 4, 40000)]"
      ]
     },
     "execution_count": 34,
     "metadata": {},
     "output_type": "execute_result"
    }
   ],
   "source": [
    "%%sql\n",
    "SELECT * FROM Employee"
   ]
  },
  {
   "cell_type": "markdown",
   "id": "74190ab2",
   "metadata": {},
   "source": [
    "# Trying to insert Repeated EmployeeID"
   ]
  },
  {
   "cell_type": "code",
   "execution_count": 35,
   "id": "c732e286",
   "metadata": {},
   "outputs": [
    {
     "name": "stdout",
     "output_type": "stream",
     "text": [
      "   sqlite:///basics.db\n",
      " * sqlite:///my_data.db\n",
      "(sqlite3.IntegrityError) UNIQUE constraint failed: Employee.EmployeeID\n",
      "[SQL: INSERT INTO Employee\n",
      "VALUES (2,\"asd\",\"dfg\",\"sgdg@gmail.com\",3,333333);]\n",
      "(Background on this error at: http://sqlalche.me/e/gkpj)\n"
     ]
    }
   ],
   "source": [
    "%%sql                                                                   # primary key constraint\n",
    "INSERT INTO Employee\n",
    "VALUES (2,\"asd\",\"dfg\",\"sgdg@gmail.com\",3,333333);"
   ]
  },
  {
   "cell_type": "code",
   "execution_count": 36,
   "id": "0d6a575c",
   "metadata": {},
   "outputs": [
    {
     "name": "stdout",
     "output_type": "stream",
     "text": [
      "   sqlite:///basics.db\n",
      " * sqlite:///my_data.db\n",
      "Done.\n"
     ]
    },
    {
     "data": {
      "text/html": [
       "<table>\n",
       "    <tr>\n",
       "        <th>EmployeeID</th>\n",
       "        <th>FirstName</th>\n",
       "        <th>LastName</th>\n",
       "        <th>Email</th>\n",
       "        <th>DepartmentId</th>\n",
       "        <th>Salary</th>\n",
       "    </tr>\n",
       "    <tr>\n",
       "        <td>1</td>\n",
       "        <td>Utkarsh</td>\n",
       "        <td>Gaikwad</td>\n",
       "        <td>utkarsh.etlhive@gmail.com</td>\n",
       "        <td>3</td>\n",
       "        <td>25000</td>\n",
       "    </tr>\n",
       "    <tr>\n",
       "        <td>2</td>\n",
       "        <td>Sarthak</td>\n",
       "        <td>Sharma</td>\n",
       "        <td>test@test.com</td>\n",
       "        <td>1</td>\n",
       "        <td>20000</td>\n",
       "    </tr>\n",
       "    <tr>\n",
       "        <td>3</td>\n",
       "        <td>Sayali</td>\n",
       "        <td>More</td>\n",
       "        <td>example@gmail.com</td>\n",
       "        <td>2</td>\n",
       "        <td>30000</td>\n",
       "    </tr>\n",
       "    <tr>\n",
       "        <td>4</td>\n",
       "        <td>Raman</td>\n",
       "        <td>Verma</td>\n",
       "        <td>raman@gmail.com</td>\n",
       "        <td>4</td>\n",
       "        <td>40000</td>\n",
       "    </tr>\n",
       "</table>"
      ],
      "text/plain": [
       "[(1, 'Utkarsh', 'Gaikwad', 'utkarsh.etlhive@gmail.com', 3, 25000),\n",
       " (2, 'Sarthak', 'Sharma', 'test@test.com', 1, 20000),\n",
       " (3, 'Sayali', 'More', 'example@gmail.com', 2, 30000),\n",
       " (4, 'Raman', 'Verma', 'raman@gmail.com', 4, 40000)]"
      ]
     },
     "execution_count": 36,
     "metadata": {},
     "output_type": "execute_result"
    }
   ],
   "source": [
    "%%sql\n",
    "SELECT * FROM Employee"
   ]
  },
  {
   "cell_type": "code",
   "execution_count": 37,
   "id": "48b56f9f",
   "metadata": {},
   "outputs": [
    {
     "name": "stdout",
     "output_type": "stream",
     "text": [
      "   sqlite:///basics.db\n",
      " * sqlite:///my_data.db\n",
      "(sqlite3.IntegrityError) NOT NULL constraint failed: Employee.FirstName\n",
      "[SQL: INSERT INTO Employee\n",
      "VALUES (5,Null,'Doe','johndoe@gmail.com',1,27000)]\n",
      "(Background on this error at: http://sqlalche.me/e/gkpj)\n"
     ]
    }
   ],
   "source": [
    "%%sql                                 # not null constraint\n",
    "INSERT INTO Employee\n",
    "VALUES (5,Null,'Doe','johndoe@gmail.com',1,27000)"
   ]
  },
  {
   "cell_type": "code",
   "execution_count": 38,
   "id": "eb0504c7",
   "metadata": {},
   "outputs": [
    {
     "name": "stdout",
     "output_type": "stream",
     "text": [
      "   sqlite:///basics.db\n",
      " * sqlite:///my_data.db\n",
      "Done.\n"
     ]
    },
    {
     "data": {
      "text/html": [
       "<table>\n",
       "    <tr>\n",
       "        <th>EmployeeID</th>\n",
       "        <th>FirstName</th>\n",
       "        <th>LastName</th>\n",
       "        <th>Email</th>\n",
       "        <th>DepartmentId</th>\n",
       "        <th>Salary</th>\n",
       "    </tr>\n",
       "    <tr>\n",
       "        <td>1</td>\n",
       "        <td>Utkarsh</td>\n",
       "        <td>Gaikwad</td>\n",
       "        <td>utkarsh.etlhive@gmail.com</td>\n",
       "        <td>3</td>\n",
       "        <td>25000</td>\n",
       "    </tr>\n",
       "    <tr>\n",
       "        <td>2</td>\n",
       "        <td>Sarthak</td>\n",
       "        <td>Sharma</td>\n",
       "        <td>test@test.com</td>\n",
       "        <td>1</td>\n",
       "        <td>20000</td>\n",
       "    </tr>\n",
       "    <tr>\n",
       "        <td>3</td>\n",
       "        <td>Sayali</td>\n",
       "        <td>More</td>\n",
       "        <td>example@gmail.com</td>\n",
       "        <td>2</td>\n",
       "        <td>30000</td>\n",
       "    </tr>\n",
       "    <tr>\n",
       "        <td>4</td>\n",
       "        <td>Raman</td>\n",
       "        <td>Verma</td>\n",
       "        <td>raman@gmail.com</td>\n",
       "        <td>4</td>\n",
       "        <td>40000</td>\n",
       "    </tr>\n",
       "</table>"
      ],
      "text/plain": [
       "[(1, 'Utkarsh', 'Gaikwad', 'utkarsh.etlhive@gmail.com', 3, 25000),\n",
       " (2, 'Sarthak', 'Sharma', 'test@test.com', 1, 20000),\n",
       " (3, 'Sayali', 'More', 'example@gmail.com', 2, 30000),\n",
       " (4, 'Raman', 'Verma', 'raman@gmail.com', 4, 40000)]"
      ]
     },
     "execution_count": 38,
     "metadata": {},
     "output_type": "execute_result"
    }
   ],
   "source": [
    "%%sql\n",
    "SELECT * FROM Employee"
   ]
  },
  {
   "cell_type": "code",
   "execution_count": 39,
   "id": "ea6c2ebb",
   "metadata": {},
   "outputs": [
    {
     "name": "stdout",
     "output_type": "stream",
     "text": [
      "   sqlite:///basics.db\n",
      " * sqlite:///my_data.db\n",
      "(sqlite3.OperationalError) near \"#not\": syntax error\n",
      "[SQL: #not null constraint\n",
      "INSERT INTO Employee\n",
      "VALUES (5,'John',Null,'johndoe@gmail.com',1,27000)]\n",
      "(Background on this error at: http://sqlalche.me/e/e3q8)\n"
     ]
    }
   ],
   "source": [
    "%%sql                               #not null constraint\n",
    "INSERT INTO Employee\n",
    "VALUES (5,'John',Null,'johndoe@gmail.com',1,27000)"
   ]
  },
  {
   "cell_type": "code",
   "execution_count": 40,
   "id": "4b5fc606",
   "metadata": {},
   "outputs": [
    {
     "name": "stdout",
     "output_type": "stream",
     "text": [
      "   sqlite:///basics.db\n",
      " * sqlite:///my_data.db\n",
      "Done.\n"
     ]
    },
    {
     "data": {
      "text/html": [
       "<table>\n",
       "    <tr>\n",
       "        <th>EmployeeID</th>\n",
       "        <th>FirstName</th>\n",
       "        <th>LastName</th>\n",
       "        <th>Email</th>\n",
       "        <th>DepartmentId</th>\n",
       "        <th>Salary</th>\n",
       "    </tr>\n",
       "    <tr>\n",
       "        <td>1</td>\n",
       "        <td>Utkarsh</td>\n",
       "        <td>Gaikwad</td>\n",
       "        <td>utkarsh.etlhive@gmail.com</td>\n",
       "        <td>3</td>\n",
       "        <td>25000</td>\n",
       "    </tr>\n",
       "    <tr>\n",
       "        <td>2</td>\n",
       "        <td>Sarthak</td>\n",
       "        <td>Sharma</td>\n",
       "        <td>test@test.com</td>\n",
       "        <td>1</td>\n",
       "        <td>20000</td>\n",
       "    </tr>\n",
       "    <tr>\n",
       "        <td>3</td>\n",
       "        <td>Sayali</td>\n",
       "        <td>More</td>\n",
       "        <td>example@gmail.com</td>\n",
       "        <td>2</td>\n",
       "        <td>30000</td>\n",
       "    </tr>\n",
       "    <tr>\n",
       "        <td>4</td>\n",
       "        <td>Raman</td>\n",
       "        <td>Verma</td>\n",
       "        <td>raman@gmail.com</td>\n",
       "        <td>4</td>\n",
       "        <td>40000</td>\n",
       "    </tr>\n",
       "</table>"
      ],
      "text/plain": [
       "[(1, 'Utkarsh', 'Gaikwad', 'utkarsh.etlhive@gmail.com', 3, 25000),\n",
       " (2, 'Sarthak', 'Sharma', 'test@test.com', 1, 20000),\n",
       " (3, 'Sayali', 'More', 'example@gmail.com', 2, 30000),\n",
       " (4, 'Raman', 'Verma', 'raman@gmail.com', 4, 40000)]"
      ]
     },
     "execution_count": 40,
     "metadata": {},
     "output_type": "execute_result"
    }
   ],
   "source": [
    "%%sql\n",
    "SELECT * FROM Employee"
   ]
  },
  {
   "cell_type": "code",
   "execution_count": 41,
   "id": "74348c4d",
   "metadata": {},
   "outputs": [
    {
     "name": "stdout",
     "output_type": "stream",
     "text": [
      "   sqlite:///basics.db\n",
      " * sqlite:///my_data.db\n",
      "(sqlite3.IntegrityError) UNIQUE constraint failed: Employee.Email\n",
      "[SQL: INSERT INTO Employee\n",
      "VALUES (5,'John','Doe','test@test.com',1,27000)]\n",
      "(Background on this error at: http://sqlalche.me/e/gkpj)\n"
     ]
    }
   ],
   "source": [
    "%%sql                                   # unique constraint\n",
    "INSERT INTO Employee\n",
    "VALUES (5,'John','Doe','test@test.com',1,27000)"
   ]
  },
  {
   "cell_type": "code",
   "execution_count": 42,
   "id": "fa9cfff0",
   "metadata": {},
   "outputs": [
    {
     "name": "stdout",
     "output_type": "stream",
     "text": [
      "   sqlite:///basics.db\n",
      " * sqlite:///my_data.db\n",
      "Done.\n"
     ]
    },
    {
     "data": {
      "text/html": [
       "<table>\n",
       "    <tr>\n",
       "        <th>EmployeeID</th>\n",
       "        <th>FirstName</th>\n",
       "        <th>LastName</th>\n",
       "        <th>Email</th>\n",
       "        <th>DepartmentId</th>\n",
       "        <th>Salary</th>\n",
       "    </tr>\n",
       "    <tr>\n",
       "        <td>1</td>\n",
       "        <td>Utkarsh</td>\n",
       "        <td>Gaikwad</td>\n",
       "        <td>utkarsh.etlhive@gmail.com</td>\n",
       "        <td>3</td>\n",
       "        <td>25000</td>\n",
       "    </tr>\n",
       "    <tr>\n",
       "        <td>2</td>\n",
       "        <td>Sarthak</td>\n",
       "        <td>Sharma</td>\n",
       "        <td>test@test.com</td>\n",
       "        <td>1</td>\n",
       "        <td>20000</td>\n",
       "    </tr>\n",
       "    <tr>\n",
       "        <td>3</td>\n",
       "        <td>Sayali</td>\n",
       "        <td>More</td>\n",
       "        <td>example@gmail.com</td>\n",
       "        <td>2</td>\n",
       "        <td>30000</td>\n",
       "    </tr>\n",
       "    <tr>\n",
       "        <td>4</td>\n",
       "        <td>Raman</td>\n",
       "        <td>Verma</td>\n",
       "        <td>raman@gmail.com</td>\n",
       "        <td>4</td>\n",
       "        <td>40000</td>\n",
       "    </tr>\n",
       "</table>"
      ],
      "text/plain": [
       "[(1, 'Utkarsh', 'Gaikwad', 'utkarsh.etlhive@gmail.com', 3, 25000),\n",
       " (2, 'Sarthak', 'Sharma', 'test@test.com', 1, 20000),\n",
       " (3, 'Sayali', 'More', 'example@gmail.com', 2, 30000),\n",
       " (4, 'Raman', 'Verma', 'raman@gmail.com', 4, 40000)]"
      ]
     },
     "execution_count": 42,
     "metadata": {},
     "output_type": "execute_result"
    }
   ],
   "source": [
    "%%sql\n",
    "SELECT * FROM Employee"
   ]
  },
  {
   "cell_type": "code",
   "execution_count": 43,
   "id": "6e4e08ac",
   "metadata": {},
   "outputs": [
    {
     "name": "stdout",
     "output_type": "stream",
     "text": [
      "   sqlite:///basics.db\n",
      " * sqlite:///my_data.db\n",
      "(sqlite3.IntegrityError) CHECK constraint failed: Salary>0\n",
      "[SQL: INSERT INTO Employee\n",
      "VALUES (5,'John','Doe','johndoe@test.com',1,-27000)]\n",
      "(Background on this error at: http://sqlalche.me/e/gkpj)\n"
     ]
    }
   ],
   "source": [
    "%%sql                       # check constraint\n",
    "INSERT INTO Employee\n",
    "VALUES (5,'John','Doe','johndoe@test.com',1,-27000)"
   ]
  },
  {
   "cell_type": "code",
   "execution_count": 44,
   "id": "ce772ac0",
   "metadata": {},
   "outputs": [
    {
     "name": "stdout",
     "output_type": "stream",
     "text": [
      "   sqlite:///basics.db\n",
      " * sqlite:///my_data.db\n",
      "Done.\n"
     ]
    },
    {
     "data": {
      "text/html": [
       "<table>\n",
       "    <tr>\n",
       "        <th>EmployeeID</th>\n",
       "        <th>FirstName</th>\n",
       "        <th>LastName</th>\n",
       "        <th>Email</th>\n",
       "        <th>DepartmentId</th>\n",
       "        <th>Salary</th>\n",
       "    </tr>\n",
       "    <tr>\n",
       "        <td>1</td>\n",
       "        <td>Utkarsh</td>\n",
       "        <td>Gaikwad</td>\n",
       "        <td>utkarsh.etlhive@gmail.com</td>\n",
       "        <td>3</td>\n",
       "        <td>25000</td>\n",
       "    </tr>\n",
       "    <tr>\n",
       "        <td>2</td>\n",
       "        <td>Sarthak</td>\n",
       "        <td>Sharma</td>\n",
       "        <td>test@test.com</td>\n",
       "        <td>1</td>\n",
       "        <td>20000</td>\n",
       "    </tr>\n",
       "    <tr>\n",
       "        <td>3</td>\n",
       "        <td>Sayali</td>\n",
       "        <td>More</td>\n",
       "        <td>example@gmail.com</td>\n",
       "        <td>2</td>\n",
       "        <td>30000</td>\n",
       "    </tr>\n",
       "    <tr>\n",
       "        <td>4</td>\n",
       "        <td>Raman</td>\n",
       "        <td>Verma</td>\n",
       "        <td>raman@gmail.com</td>\n",
       "        <td>4</td>\n",
       "        <td>40000</td>\n",
       "    </tr>\n",
       "</table>"
      ],
      "text/plain": [
       "[(1, 'Utkarsh', 'Gaikwad', 'utkarsh.etlhive@gmail.com', 3, 25000),\n",
       " (2, 'Sarthak', 'Sharma', 'test@test.com', 1, 20000),\n",
       " (3, 'Sayali', 'More', 'example@gmail.com', 2, 30000),\n",
       " (4, 'Raman', 'Verma', 'raman@gmail.com', 4, 40000)]"
      ]
     },
     "execution_count": 44,
     "metadata": {},
     "output_type": "execute_result"
    }
   ],
   "source": [
    "%%sql\n",
    "SELECT * FROM Employee"
   ]
  },
  {
   "cell_type": "code",
   "execution_count": 45,
   "id": "68051d8f",
   "metadata": {},
   "outputs": [
    {
     "name": "stdout",
     "output_type": "stream",
     "text": [
      "   sqlite:///basics.db\n",
      " * sqlite:///my_data.db\n",
      "1 rows affected.\n"
     ]
    },
    {
     "data": {
      "text/plain": [
       "[]"
      ]
     },
     "execution_count": 45,
     "metadata": {},
     "output_type": "execute_result"
    }
   ],
   "source": [
    "%%sql \n",
    "INSERT INTO Employee\n",
    "VALUES (5,'John','Doe','johndoe@test.com',1,27000)"
   ]
  },
  {
   "cell_type": "code",
   "execution_count": 46,
   "id": "d273d70f",
   "metadata": {},
   "outputs": [
    {
     "name": "stdout",
     "output_type": "stream",
     "text": [
      "   sqlite:///basics.db\n",
      " * sqlite:///my_data.db\n",
      "Done.\n"
     ]
    },
    {
     "data": {
      "text/html": [
       "<table>\n",
       "    <tr>\n",
       "        <th>EmployeeID</th>\n",
       "        <th>FirstName</th>\n",
       "        <th>LastName</th>\n",
       "        <th>Email</th>\n",
       "        <th>DepartmentId</th>\n",
       "        <th>Salary</th>\n",
       "    </tr>\n",
       "    <tr>\n",
       "        <td>1</td>\n",
       "        <td>Utkarsh</td>\n",
       "        <td>Gaikwad</td>\n",
       "        <td>utkarsh.etlhive@gmail.com</td>\n",
       "        <td>3</td>\n",
       "        <td>25000</td>\n",
       "    </tr>\n",
       "    <tr>\n",
       "        <td>2</td>\n",
       "        <td>Sarthak</td>\n",
       "        <td>Sharma</td>\n",
       "        <td>test@test.com</td>\n",
       "        <td>1</td>\n",
       "        <td>20000</td>\n",
       "    </tr>\n",
       "    <tr>\n",
       "        <td>3</td>\n",
       "        <td>Sayali</td>\n",
       "        <td>More</td>\n",
       "        <td>example@gmail.com</td>\n",
       "        <td>2</td>\n",
       "        <td>30000</td>\n",
       "    </tr>\n",
       "    <tr>\n",
       "        <td>4</td>\n",
       "        <td>Raman</td>\n",
       "        <td>Verma</td>\n",
       "        <td>raman@gmail.com</td>\n",
       "        <td>4</td>\n",
       "        <td>40000</td>\n",
       "    </tr>\n",
       "    <tr>\n",
       "        <td>5</td>\n",
       "        <td>John</td>\n",
       "        <td>Doe</td>\n",
       "        <td>johndoe@test.com</td>\n",
       "        <td>1</td>\n",
       "        <td>27000</td>\n",
       "    </tr>\n",
       "</table>"
      ],
      "text/plain": [
       "[(1, 'Utkarsh', 'Gaikwad', 'utkarsh.etlhive@gmail.com', 3, 25000),\n",
       " (2, 'Sarthak', 'Sharma', 'test@test.com', 1, 20000),\n",
       " (3, 'Sayali', 'More', 'example@gmail.com', 2, 30000),\n",
       " (4, 'Raman', 'Verma', 'raman@gmail.com', 4, 40000),\n",
       " (5, 'John', 'Doe', 'johndoe@test.com', 1, 27000)]"
      ]
     },
     "execution_count": 46,
     "metadata": {},
     "output_type": "execute_result"
    }
   ],
   "source": [
    "%%sql                                   # department id foreign key constraint work as a joint\n",
    "SELECT * FROM Employee"
   ]
  },
  {
   "cell_type": "markdown",
   "id": "4cec9a9c",
   "metadata": {},
   "source": [
    "# Close the connection in END"
   ]
  },
  {
   "cell_type": "code",
   "execution_count": 47,
   "id": "25521da0",
   "metadata": {},
   "outputs": [],
   "source": [
    "con.close()"
   ]
  },
  {
   "cell_type": "code",
   "execution_count": null,
   "id": "3501bfeb",
   "metadata": {},
   "outputs": [],
   "source": []
  }
 ],
 "metadata": {
  "kernelspec": {
   "display_name": "Python 3 (ipykernel)",
   "language": "python",
   "name": "python3"
  },
  "language_info": {
   "codemirror_mode": {
    "name": "ipython",
    "version": 3
   },
   "file_extension": ".py",
   "mimetype": "text/x-python",
   "name": "python",
   "nbconvert_exporter": "python",
   "pygments_lexer": "ipython3",
   "version": "3.9.12"
  }
 },
 "nbformat": 4,
 "nbformat_minor": 5
}
